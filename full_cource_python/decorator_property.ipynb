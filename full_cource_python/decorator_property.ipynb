{
 "cells": [
  {
   "cell_type": "code",
   "execution_count": 1,
   "id": "6f29fa31-3226-490f-8072-faebfd465da8",
   "metadata": {},
   "outputs": [],
   "source": [
    "class company:\n",
    "    def __init__(self, employee_name,employee_sallary):\n",
    "        self.employee_name=employee_name\n",
    "        self.__employee_sallary=employee_name #if a single under score so call protected and doubel underscore so private means external user not change value"
   ]
  },
  {
   "cell_type": "code",
   "execution_count": 2,
   "id": "9e28efdd-1f83-46c8-b81c-72cc4c8a18ef",
   "metadata": {},
   "outputs": [],
   "source": [
    "obj=company(\"radhe\",34000)"
   ]
  },
  {
   "cell_type": "code",
   "execution_count": 3,
   "id": "f64e0716-3835-4a76-9c29-4d4990157287",
   "metadata": {},
   "outputs": [
    {
     "data": {
      "text/plain": [
       "'radhe'"
      ]
     },
     "execution_count": 3,
     "metadata": {},
     "output_type": "execute_result"
    }
   ],
   "source": [
    "obj.employee_name"
   ]
  },
  {
   "cell_type": "code",
   "execution_count": 7,
   "id": "eb9d02bb-9b9c-488b-95bf-283d95e1952c",
   "metadata": {},
   "outputs": [
    {
     "ename": "AttributeError",
     "evalue": "'company' object has no attribute '__company'",
     "output_type": "error",
     "traceback": [
      "\u001b[0;31m---------------------------------------------------------------------------\u001b[0m",
      "\u001b[0;31mAttributeError\u001b[0m                            Traceback (most recent call last)",
      "Cell \u001b[0;32mIn[7], line 1\u001b[0m\n\u001b[0;32m----> 1\u001b[0m \u001b[43mobj\u001b[49m\u001b[38;5;241;43m.\u001b[39;49m\u001b[43m__company\u001b[49m\u001b[38;5;241m.\u001b[39m__employee_sallary\n",
      "\u001b[0;31mAttributeError\u001b[0m: 'company' object has no attribute '__company'"
     ]
    }
   ],
   "source": [
    "obj.__employee_sallary"
   ]
  },
  {
   "cell_type": "code",
   "execution_count": 91,
   "id": "0fff3049-67ed-44ab-a2a0-21c0c82a6375",
   "metadata": {},
   "outputs": [],
   "source": [
    "#property decotrator \n",
    "class company1:\n",
    "    def __init__(self, employee_name,employee_sallary):\n",
    "        self.employee_name=employee_name\n",
    "        self.__employee_sallary=employee_sallary\n",
    "    @property\n",
    "    def employee_sallary_access(self):\n",
    "        return self.__employee_sallary\n",
    "    @employee_sallary_access.setter\n",
    "    def employee_sallary_set(self,sallary):\n",
    "        if sallary<=34000:\n",
    "            pass\n",
    "        else:\n",
    "            self.__employee_sallary=sallary\n",
    "    @employee_sallary_access.deleter\n",
    "    def employee_details_delet(self):\n",
    "        del self.__employee_sallary\n",
    "    @employee_sallary_access.getter  \n",
    "    def employee_details_get(self):\n",
    "        return self.employee_name, self.__employee_sallary"
   ]
  },
  {
   "cell_type": "code",
   "execution_count": 92,
   "id": "87a9a880-ab60-4c4d-adfb-9d3c355b8360",
   "metadata": {},
   "outputs": [],
   "source": [
    "obj1=company1(\"radhe\",34000)"
   ]
  },
  {
   "cell_type": "code",
   "execution_count": 93,
   "id": "0d32a170-e231-4f8b-b516-aa4ac028c64a",
   "metadata": {},
   "outputs": [
    {
     "data": {
      "text/plain": [
       "'radhe'"
      ]
     },
     "execution_count": 93,
     "metadata": {},
     "output_type": "execute_result"
    }
   ],
   "source": [
    "obj1.employee_name"
   ]
  },
  {
   "cell_type": "code",
   "execution_count": 94,
   "id": "c35eb393-0199-4cbb-a646-b721561d4828",
   "metadata": {},
   "outputs": [
    {
     "ename": "AttributeError",
     "evalue": "'company1' object has no attribute '__employee_sallary'",
     "output_type": "error",
     "traceback": [
      "\u001b[0;31m---------------------------------------------------------------------------\u001b[0m",
      "\u001b[0;31mAttributeError\u001b[0m                            Traceback (most recent call last)",
      "Cell \u001b[0;32mIn[94], line 1\u001b[0m\n\u001b[0;32m----> 1\u001b[0m \u001b[43mobj1\u001b[49m\u001b[38;5;241;43m.\u001b[39;49m\u001b[43m__employee_sallary\u001b[49m\n",
      "\u001b[0;31mAttributeError\u001b[0m: 'company1' object has no attribute '__employee_sallary'"
     ]
    }
   ],
   "source": [
    "obj1.__employee_sallary"
   ]
  },
  {
   "cell_type": "code",
   "execution_count": 95,
   "id": "dccf6215-935d-4194-9864-231ba44647a5",
   "metadata": {},
   "outputs": [
    {
     "data": {
      "text/plain": [
       "34000"
      ]
     },
     "execution_count": 95,
     "metadata": {},
     "output_type": "execute_result"
    }
   ],
   "source": [
    "obj1._company1__employee_sallary"
   ]
  },
  {
   "cell_type": "code",
   "execution_count": 96,
   "id": "08bc95e4-3d4a-4e1a-bc11-a0d9bfe65ace",
   "metadata": {},
   "outputs": [
    {
     "data": {
      "text/plain": [
       "34000"
      ]
     },
     "execution_count": 96,
     "metadata": {},
     "output_type": "execute_result"
    }
   ],
   "source": [
    "obj1.employee_sallary_access"
   ]
  },
  {
   "cell_type": "code",
   "execution_count": 97,
   "id": "a0f6c87c-9332-469b-a75e-34f1c50f9a5d",
   "metadata": {},
   "outputs": [],
   "source": [
    "obj1.employee_sallary_set=45000"
   ]
  },
  {
   "cell_type": "code",
   "execution_count": 98,
   "id": "b0e45af1-6249-45eb-8edf-c0049dbebf89",
   "metadata": {},
   "outputs": [
    {
     "data": {
      "text/plain": [
       "45000"
      ]
     },
     "execution_count": 98,
     "metadata": {},
     "output_type": "execute_result"
    }
   ],
   "source": [
    "obj1.employee_sallary_access"
   ]
  },
  {
   "cell_type": "code",
   "execution_count": 101,
   "id": "118d38c0-7d38-421b-ab0d-b71582e8dcb7",
   "metadata": {},
   "outputs": [],
   "source": [
    "#del obj1.employee_details_delet #kii bhi atrribute ya value ko delet kr ne ke liye "
   ]
  },
  {
   "cell_type": "code",
   "execution_count": 99,
   "id": "cd7baca2-6d2f-4e7b-a8e5-92de020ca6ab",
   "metadata": {},
   "outputs": [
    {
     "data": {
      "text/plain": [
       "45000"
      ]
     },
     "execution_count": 99,
     "metadata": {},
     "output_type": "execute_result"
    }
   ],
   "source": [
    "obj1.employee_sallary_access"
   ]
  },
  {
   "cell_type": "code",
   "execution_count": 100,
   "id": "dc1cc454-07df-4e95-a08c-9275a42ccc38",
   "metadata": {},
   "outputs": [
    {
     "data": {
      "text/plain": [
       "('radhe', 45000)"
      ]
     },
     "execution_count": 100,
     "metadata": {},
     "output_type": "execute_result"
    }
   ],
   "source": [
    "obj1.employee_details_get"
   ]
  },
  {
   "cell_type": "code",
   "execution_count": null,
   "id": "4da405ad-f973-4684-8285-74b6833ba6f7",
   "metadata": {},
   "outputs": [],
   "source": []
  }
 ],
 "metadata": {
  "kernelspec": {
   "display_name": "Python 3 (ipykernel)",
   "language": "python",
   "name": "python3"
  },
  "language_info": {
   "codemirror_mode": {
    "name": "ipython",
    "version": 3
   },
   "file_extension": ".py",
   "mimetype": "text/x-python",
   "name": "python",
   "nbconvert_exporter": "python",
   "pygments_lexer": "ipython3",
   "version": "3.10.8"
  }
 },
 "nbformat": 4,
 "nbformat_minor": 5
}
