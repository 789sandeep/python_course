{
 "cells": [
  {
   "cell_type": "code",
   "execution_count": 1,
   "id": "4c4a4833-cbbf-4b51-97f4-60dd3e52b356",
   "metadata": {},
   "outputs": [
    {
     "data": {
      "text/plain": [
       "(-1+3j)"
      ]
     },
     "execution_count": 1,
     "metadata": {},
     "output_type": "execute_result"
    }
   ],
   "source": [
    "num1=23\n",
    "num2=45\n",
    "num2=2+3j\n",
    "num1=num2.imag\n",
    "num2-num1"
   ]
  },
  {
   "cell_type": "code",
   "execution_count": 2,
   "id": "0fb00813-7d2d-44f0-9e6a-98fa9a025a13",
   "metadata": {},
   "outputs": [
    {
     "ename": "SyntaxError",
     "evalue": "invalid character '‘' (U+2018) (3643665153.py, line 1)",
     "output_type": "error",
     "traceback": [
      "\u001b[0;36m  Cell \u001b[0;32mIn[2], line 1\u001b[0;36m\u001b[0m\n\u001b[0;31m    ‘pwskills’.upper().lower().isalnum()\u001b[0m\n\u001b[0m    ^\u001b[0m\n\u001b[0;31mSyntaxError\u001b[0m\u001b[0;31m:\u001b[0m invalid character '‘' (U+2018)\n"
     ]
    }
   ],
   "source": [
    "‘pwskills’.upper().lower().isalnum()"
   ]
  },
  {
   "cell_type": "code",
   "execution_count": 3,
   "id": "5f3aeddc-e8f8-4492-b6fe-8c958a71b769",
   "metadata": {},
   "outputs": [
    {
     "ename": "SyntaxError",
     "evalue": "invalid character '‘' (U+2018) (22824629.py, line 1)",
     "output_type": "error",
     "traceback": [
      "\u001b[0;36m  Cell \u001b[0;32mIn[3], line 1\u001b[0;36m\u001b[0m\n\u001b[0;31m    Name = ‘pwskills’\u001b[0m\n\u001b[0m           ^\u001b[0m\n\u001b[0;31mSyntaxError\u001b[0m\u001b[0;31m:\u001b[0m invalid character '‘' (U+2018)\n"
     ]
    }
   ],
   "source": [
    "Name = ‘pwskills’\n",
    "\n",
    "Name[0] = ‘P’"
   ]
  },
  {
   "cell_type": "code",
   "execution_count": 4,
   "id": "9d7976c8-e90f-45df-afe5-1fe81e196f5e",
   "metadata": {},
   "outputs": [
    {
     "name": "stdout",
     "output_type": "stream",
     "text": [
      "PwSkills PwSkills "
     ]
    }
   ],
   "source": [
    "for course in ['Data Science Masters', 'ML', 'data science masters', 'DL']:\n",
    "\n",
    "    if len(course)!= 2:\n",
    "\n",
    "        print('PwSkills' , end=' ')\n",
    "        "
   ]
  },
  {
   "cell_type": "code",
   "execution_count": 5,
   "id": "8919569e-8515-4655-8daf-74dc18281db9",
   "metadata": {},
   "outputs": [
    {
     "name": "stdout",
     "output_type": "stream",
     "text": [
      "105\n"
     ]
    }
   ],
   "source": [
    "sum = 0\n",
    "\n",
    "for i in range(1,100):\n",
    "\n",
    "    sum += i\n",
    "\n",
    "    if sum > 100:\n",
    "\n",
    "        break\n",
    "\n",
    "print(sum)"
   ]
  },
  {
   "cell_type": "code",
   "execution_count": 6,
   "id": "ce9eebce-dd7d-4be4-93ed-0d5b6e2a39c3",
   "metadata": {},
   "outputs": [
    {
     "ename": "NameError",
     "evalue": "name 'count' is not defined",
     "output_type": "error",
     "traceback": [
      "\u001b[0;31m---------------------------------------------------------------------------\u001b[0m",
      "\u001b[0;31mNameError\u001b[0m                                 Traceback (most recent call last)",
      "Cell \u001b[0;32mIn[6], line 11\u001b[0m\n\u001b[1;32m      7\u001b[0m     \u001b[38;5;28msum\u001b[39m \u001b[38;5;241m+\u001b[39m\u001b[38;5;241m=\u001b[39m num\n\u001b[1;32m      9\u001b[0m     num \u001b[38;5;241m+\u001b[39m\u001b[38;5;241m=\u001b[39m \u001b[38;5;241m2\u001b[39m\n\u001b[0;32m---> 11\u001b[0m     count\u001b[38;5;241m+\u001b[39m\u001b[38;5;241m=\u001b[39m\u001b[38;5;241m1\u001b[39m\n\u001b[1;32m     13\u001b[0m \u001b[38;5;28mprint\u001b[39m(\u001b[38;5;28msum\u001b[39m)\n",
      "\u001b[0;31mNameError\u001b[0m: name 'count' is not defined"
     ]
    }
   ],
   "source": [
    "num = 2\n",
    "\n",
    "sum = 0\n",
    "\n",
    "while num <=20:\n",
    "\n",
    "    sum += num\n",
    "\n",
    "    num += 2\n",
    "\n",
    "    count+=1\n",
    "\n",
    "print(sum)"
   ]
  },
  {
   "cell_type": "code",
   "execution_count": 7,
   "id": "62e58670-88ec-4a15-aa50-bdba32f18cbe",
   "metadata": {},
   "outputs": [
    {
     "name": "stdout",
     "output_type": "stream",
     "text": [
      "['0', '10', '20', '30', '40', '50']\n"
     ]
    }
   ],
   "source": [
    "list_out=[]\n",
    "\n",
    "for i in range(0,51,10):\n",
    "\n",
    "    list_out.append(str(i))\n",
    "\n",
    "print(list_out)"
   ]
  },
  {
   "cell_type": "code",
   "execution_count": 2,
   "id": "74156b07-ff7c-44cc-a8a3-6599c8d9e774",
   "metadata": {},
   "outputs": [
    {
     "name": "stdout",
     "output_type": "stream",
     "text": [
      "1\n",
      "2\n",
      "3\n",
      "4\n",
      "5\n",
      "6\n",
      "7\n",
      "8\n",
      "9\n",
      "10\n"
     ]
    }
   ],
   "source": [
    "a=1\n",
    "while a<=10:\n",
    "    print(a)\n",
    "    a=a+1"
   ]
  },
  {
   "cell_type": "code",
   "execution_count": null,
   "id": "da322248-f754-4cf8-80c0-6dd5b47e82a7",
   "metadata": {},
   "outputs": [],
   "source": [
    "user=int(input(\"enter the number:\"))\n",
    "a=1\n",
    "while a<=10:\n",
    "    print(user,\"*\",a,\"=\",a*user)\n",
    "    a=a+1"
   ]
  },
  {
   "cell_type": "code",
   "execution_count": 7,
   "id": "f74dc2fb-e2a2-4bc2-98eb-fb043eb7ad4d",
   "metadata": {},
   "outputs": [
    {
     "name": "stdin",
     "output_type": "stream",
     "text": [
      "enter your limit 5\n"
     ]
    },
    {
     "name": "stdout",
     "output_type": "stream",
     "text": [
      "15\n"
     ]
    }
   ],
   "source": [
    "a=int(input(\"enter your limit\"))\n",
    "starting_point=0\n",
    "counter=1\n",
    "while counter<=a:\n",
    "    starting_point =starting_point+counter\n",
    "    counter=counter+1\n",
    "print(starting_point)"
   ]
  },
  {
   "cell_type": "code",
   "execution_count": 25,
   "id": "8027f86a-c61e-4ab6-96ac-fa4c9378f77a",
   "metadata": {},
   "outputs": [
    {
     "name": "stdin",
     "output_type": "stream",
     "text": [
      "enter the number: 5\n"
     ]
    },
    {
     "name": "stdout",
     "output_type": "stream",
     "text": [
      "120\n"
     ]
    }
   ],
   "source": [
    "a=int(input(\"enter the number:\")) #5\n",
    "fact=1 #120\n",
    "while a>0: #5 4 3 2 1 0\n",
    "    fact=fact*a #1*5,5*4,20*3,60*2,120*1\n",
    "    a=a-1\n",
    "print(fact) #120"
   ]
  },
  {
   "cell_type": "code",
   "execution_count": 26,
   "id": "22a89e17-7f73-4f11-be71-413989010db8",
   "metadata": {},
   "outputs": [
    {
     "name": "stdin",
     "output_type": "stream",
     "text": [
      "enter the number: 10\n"
     ]
    },
    {
     "name": "stdout",
     "output_type": "stream",
     "text": [
      "0\n",
      "1\n",
      "1\n",
      "2\n",
      "3\n",
      "5\n",
      "8\n",
      "13\n",
      "21\n",
      "34\n"
     ]
    }
   ],
   "source": [
    "user=int(input(\"enter the number:\"))\n",
    "t1=0\n",
    "t2=1\n",
    "a=0 #loop variable\n",
    "while a<user:\n",
    "    print(t1)\n",
    "    next_value=t1+t2\n",
    "    t1=t2\n",
    "    t2=next_value\n",
    "    a=a+1\n",
    "        "
   ]
  },
  {
   "cell_type": "code",
   "execution_count": null,
   "id": "1e9876a6-a2e4-43e9-9782-3741dc17ea53",
   "metadata": {},
   "outputs": [],
   "source": [
    "user=int(input(\"enter the number:\"))\n",
    "t1=0\n",
    "t2=1\n",
    "for i in range(0,user):\n",
    "    print(t1)\n",
    "    next_value=t1+t2\n",
    "    t1=t2\n",
    "    t2=next_value"
   ]
  },
  {
   "cell_type": "code",
   "execution_count": null,
   "id": "eeb24220-071b-46ef-be8d-78b5ce1559ee",
   "metadata": {},
   "outputs": [],
   "source": [
    "a=input(\"enter your string:\")\n",
    "reverse=\"\"\n",
    "lenght=len(a)\n",
    "while lenght>0:\n",
    "    reverse=reverse+a[lenght-1]\n",
    "    length =lenght-1\n",
    "print(reverse)"
   ]
  },
  {
   "cell_type": "code",
   "execution_count": null,
   "id": "395d69f2-6227-4d51-a1d0-ea958227fff7",
   "metadata": {},
   "outputs": [],
   "source": [
    "a=input(\"enter your string\")\n",
    "reverse=\"\"\n",
    "length=len(a)\n",
    "for i in range(-1,length,1):\n",
    "      reverse=reverse+a[i]   \n",
    "print(reverse)"
   ]
  },
  {
   "cell_type": "code",
   "execution_count": null,
   "id": "f90f2af2-8bdc-4ddf-9b26-a9e52f1e3312",
   "metadata": {},
   "outputs": [],
   "source": [
    "n= 5\n",
    "i=1\n",
    "while i<n:\n",
    "    print(i)\n",
    "    if i==3:\n",
    "        break\n",
    "    i=i+1\n",
    "else:\n",
    "    print(\"this will be excuted once your while will complete it successfull\")"
   ]
  },
  {
   "cell_type": "code",
   "execution_count": null,
   "id": "2a36cc48-63d7-42f3-a01a-7b430ab96272",
   "metadata": {},
   "outputs": [],
   "source": []
  }
 ],
 "metadata": {
  "kernelspec": {
   "display_name": "Python 3 (ipykernel)",
   "language": "python",
   "name": "python3"
  },
  "language_info": {
   "codemirror_mode": {
    "name": "ipython",
    "version": 3
   },
   "file_extension": ".py",
   "mimetype": "text/x-python",
   "name": "python",
   "nbconvert_exporter": "python",
   "pygments_lexer": "ipython3",
   "version": "3.10.8"
  }
 },
 "nbformat": 4,
 "nbformat_minor": 5
}
