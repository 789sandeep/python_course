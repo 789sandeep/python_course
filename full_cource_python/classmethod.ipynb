{
 "cells": [
  {
   "cell_type": "code",
   "execution_count": 2,
   "id": "1a08b153-0fd2-4d8c-aeaf-bc294a34821b",
   "metadata": {},
   "outputs": [
    {
     "data": {
      "text/plain": [
       "'mafhd@gmail.com'"
      ]
     },
     "execution_count": 2,
     "metadata": {},
     "output_type": "execute_result"
    }
   ],
   "source": [
    "class pw:\n",
    "    def __init__(self, name, email):\n",
    "        self.name =name\n",
    "        self.email=email\n",
    "    def student_details(self):\n",
    "        print(self.name,self.email)\n",
    "p=pw(\"ysfh\",\"mafhd@gmail.com\")\n",
    "p.name\n",
    "p.email"
   ]
  },
  {
   "cell_type": "code",
   "execution_count": 5,
   "id": "1ede5a22-d2b5-4cfa-969b-61716b984e84",
   "metadata": {},
   "outputs": [],
   "source": [
    "class course:\n",
    "    def __init__(self,course_name,faculty_name):\n",
    "        self.course_name=course_name\n",
    "        self.faculty_name=faculty_name\n",
    "    def get_details(self):\n",
    "        return self.course_name,self.faculty_name"
   ]
  },
  {
   "cell_type": "code",
   "execution_count": 6,
   "id": "9d07bf84-c164-4e35-9c0d-2e81d5eb529f",
   "metadata": {},
   "outputs": [],
   "source": [
    "a=course(\"data science\",\"rocky\")"
   ]
  },
  {
   "cell_type": "code",
   "execution_count": 8,
   "id": "07bc30db-fca6-4697-a5e0-259f6c9c493a",
   "metadata": {},
   "outputs": [
    {
     "data": {
      "text/plain": [
       "('data science', 'rocky')"
      ]
     },
     "execution_count": 8,
     "metadata": {},
     "output_type": "execute_result"
    }
   ],
   "source": [
    "a.get_details()"
   ]
  },
  {
   "cell_type": "code",
   "execution_count": 12,
   "id": "53040275-f446-425e-8851-1ffe9bdc2014",
   "metadata": {},
   "outputs": [],
   "source": [
    "class course1:\n",
    "    def __init__(self,course_name,faculty_name):\n",
    "        self.course_name=course_name\n",
    "        self.faculty_name=faculty_name\n",
    "    @classmethod\n",
    "    def change_details(self,course_name,faculty_name):\n",
    "        return self(course_name,faculty_name)\n",
    "    def get_details(self):\n",
    "        return self.course_name,self.faculty_name\n",
    "var=course1.change_details(\"c++\",\"shak\")"
   ]
  },
  {
   "cell_type": "code",
   "execution_count": 18,
   "id": "832aca72-d866-45cf-939d-efd3d77e65a2",
   "metadata": {},
   "outputs": [
    {
     "data": {
      "text/plain": [
       "'c++'"
      ]
     },
     "execution_count": 18,
     "metadata": {},
     "output_type": "execute_result"
    }
   ],
   "source": [
    "var.course_name"
   ]
  },
  {
   "cell_type": "code",
   "execution_count": 39,
   "id": "6d719fb1-242c-45ac-a4c1-60bd6257d1b6",
   "metadata": {},
   "outputs": [],
   "source": [
    "class course2:\n",
    "    course=\"python\"\n",
    "    def __init__(self,course_name,faculty_name):\n",
    "        self.course_name=course_name\n",
    "        self.faculty_name=faculty_name\n",
    "    @classmethod\n",
    "    def change_details(cls,course_name,faculty_name,course):\n",
    "        course2.course=course\n",
    "        return cls(course_name,faculty_name)\n",
    "    def get_details(self):\n",
    "        return self.course_name,self.faculty_name\n"
   ]
  },
  {
   "cell_type": "code",
   "execution_count": 40,
   "id": "8746171c-5c88-4b4e-a28b-a9c2df7f68d8",
   "metadata": {},
   "outputs": [],
   "source": [
    "var=course2(\"javascript\",\"shak\")"
   ]
  },
  {
   "cell_type": "code",
   "execution_count": 41,
   "id": "7a15964b-7882-4acc-b76c-e51ac2d72594",
   "metadata": {},
   "outputs": [
    {
     "data": {
      "text/plain": [
       "'javascript'"
      ]
     },
     "execution_count": 41,
     "metadata": {},
     "output_type": "execute_result"
    }
   ],
   "source": [
    "var.course_name"
   ]
  },
  {
   "cell_type": "code",
   "execution_count": 42,
   "id": "7e131d12-de4d-49dc-9ddd-47381fec301f",
   "metadata": {},
   "outputs": [
    {
     "data": {
      "text/plain": [
       "'shak'"
      ]
     },
     "execution_count": 42,
     "metadata": {},
     "output_type": "execute_result"
    }
   ],
   "source": [
    "var.faculty_name"
   ]
  },
  {
   "cell_type": "code",
   "execution_count": 43,
   "id": "9f5ddaa4-18ae-4fcd-b310-1629ce10d748",
   "metadata": {},
   "outputs": [
    {
     "data": {
      "text/plain": [
       "'python'"
      ]
     },
     "execution_count": 43,
     "metadata": {},
     "output_type": "execute_result"
    }
   ],
   "source": [
    "course2.course"
   ]
  },
  {
   "cell_type": "code",
   "execution_count": 48,
   "id": "8baacb03-3b9f-47d6-a549-6eeb9895e023",
   "metadata": {},
   "outputs": [],
   "source": [
    "var=course2.change_details(\"c++\",\"kholi\",\"java\")"
   ]
  },
  {
   "cell_type": "code",
   "execution_count": 49,
   "id": "a9703630-6329-49c3-a516-1a95a1df928d",
   "metadata": {},
   "outputs": [
    {
     "data": {
      "text/plain": [
       "'c++'"
      ]
     },
     "execution_count": 49,
     "metadata": {},
     "output_type": "execute_result"
    }
   ],
   "source": [
    "var.course_name"
   ]
  },
  {
   "cell_type": "code",
   "execution_count": 50,
   "id": "bf2d5a70-0c5a-4308-a53b-65fb508260d0",
   "metadata": {},
   "outputs": [
    {
     "data": {
      "text/plain": [
       "'kholi'"
      ]
     },
     "execution_count": 50,
     "metadata": {},
     "output_type": "execute_result"
    }
   ],
   "source": [
    "var.faculty_name"
   ]
  },
  {
   "cell_type": "code",
   "execution_count": 51,
   "id": "8a34155b-9ece-4aec-af53-dfd5d57f420b",
   "metadata": {},
   "outputs": [
    {
     "data": {
      "text/plain": [
       "'java'"
      ]
     },
     "execution_count": 51,
     "metadata": {},
     "output_type": "execute_result"
    }
   ],
   "source": [
    "var.course"
   ]
  },
  {
   "cell_type": "code",
   "execution_count": 89,
   "id": "26be5c2d-61c4-4441-8070-b1877ed93085",
   "metadata": {},
   "outputs": [],
   "source": [
    "class course3:\n",
    "    course=\"python\"\n",
    "    def __init__(self,course_name,faculty_name):\n",
    "        self.course_name=course_name\n",
    "        self.faculty_name=faculty_name\n",
    "    @classmethod\n",
    "    def change_details(cls,course_name,faculty_name,course):\n",
    "        course2.course=course\n",
    "        return cls(course_name,faculty_name)\n",
    "    def get_details(self):\n",
    "        return self.course_name,self.faculty_name"
   ]
  },
  {
   "cell_type": "code",
   "execution_count": 224,
   "id": "fec5d784-2d00-4d44-8b61-5ef8626972d4",
   "metadata": {},
   "outputs": [],
   "source": [
    "def add(self,a,b):\n",
    "    return a+b\n",
    "course3.add=classmethod(add)#external function ko apni class me add krne ke liye bhi user krte h classmethod ka"
   ]
  },
  {
   "cell_type": "code",
   "execution_count": 225,
   "id": "381617b1-f477-4e54-b8bb-113e28803fd5",
   "metadata": {},
   "outputs": [],
   "source": [
    "def sub(self,a,b):\n",
    "    return a-b\n",
    "course3.sub=classmethod(sub)"
   ]
  },
  {
   "cell_type": "code",
   "execution_count": 226,
   "id": "07317692-2923-4329-b60a-c572b507e417",
   "metadata": {},
   "outputs": [],
   "source": [
    "def multi(self,a,b):\n",
    "    return a*b\n",
    "course3.multi=classmethod(multi)"
   ]
  },
  {
   "cell_type": "code",
   "execution_count": 227,
   "id": "de9cf749-2347-4173-8fad-341052200e24",
   "metadata": {},
   "outputs": [],
   "source": [
    "a=course3.add(23,24)"
   ]
  },
  {
   "cell_type": "code",
   "execution_count": 228,
   "id": "919b2d48-5a07-4d85-a11d-143ff00803be",
   "metadata": {},
   "outputs": [
    {
     "data": {
      "text/plain": [
       "47"
      ]
     },
     "execution_count": 228,
     "metadata": {},
     "output_type": "execute_result"
    }
   ],
   "source": [
    "a"
   ]
  },
  {
   "cell_type": "code",
   "execution_count": 229,
   "id": "8c4895b4-2261-4c48-b278-8538805e7100",
   "metadata": {},
   "outputs": [],
   "source": [
    "a=course3.sub(23,24)"
   ]
  },
  {
   "cell_type": "code",
   "execution_count": 230,
   "id": "5a3c867f-0d2b-4c29-a009-82d3aebd9abb",
   "metadata": {},
   "outputs": [
    {
     "data": {
      "text/plain": [
       "-1"
      ]
     },
     "execution_count": 230,
     "metadata": {},
     "output_type": "execute_result"
    }
   ],
   "source": [
    "a"
   ]
  },
  {
   "cell_type": "code",
   "execution_count": 231,
   "id": "c7e81460-ddca-4592-b56f-19693de6652f",
   "metadata": {},
   "outputs": [],
   "source": [
    "a=course3.multi(23,24)"
   ]
  },
  {
   "cell_type": "code",
   "execution_count": 232,
   "id": "6035eea1-7973-4ddf-b3a6-23213d8d93d7",
   "metadata": {},
   "outputs": [
    {
     "data": {
      "text/plain": [
       "552"
      ]
     },
     "execution_count": 232,
     "metadata": {},
     "output_type": "execute_result"
    }
   ],
   "source": [
    "a"
   ]
  },
  {
   "cell_type": "code",
   "execution_count": 233,
   "id": "ab4a22dc-1d04-45d2-8ead-f1e697ce2519",
   "metadata": {},
   "outputs": [],
   "source": [
    "del course3.multi"
   ]
  },
  {
   "cell_type": "code",
   "execution_count": 234,
   "id": "6e003d36-715a-49cc-9860-1df89f5f7606",
   "metadata": {},
   "outputs": [],
   "source": [
    "delattr (course3,\"add\")"
   ]
  },
  {
   "cell_type": "code",
   "execution_count": 235,
   "id": "e02f369b-f3a9-4b79-b7a2-d2df64cb5aca",
   "metadata": {},
   "outputs": [
    {
     "ename": "SyntaxError",
     "evalue": "invalid syntax (1119547607.py, line 1)",
     "output_type": "error",
     "traceback": [
      "\u001b[0;36m  Cell \u001b[0;32mIn[235], line 1\u001b[0;36m\u001b[0m\n\u001b[0;31m    course3.\u001b[0m\n\u001b[0m            ^\u001b[0m\n\u001b[0;31mSyntaxError\u001b[0m\u001b[0;31m:\u001b[0m invalid syntax\n"
     ]
    }
   ],
   "source": [
    "course3."
   ]
  },
  {
   "cell_type": "code",
   "execution_count": 236,
   "id": "72ab87c8-2274-4a57-ad89-a44e6282c811",
   "metadata": {},
   "outputs": [],
   "source": [
    "class course4:\n",
    "    course=\"python\"\n",
    "    def __init__(self,course_name,faculty_name):\n",
    "        self.course_name=course_name\n",
    "        self.faculty_name=faculty_name\n",
    "    @classmethod\n",
    "    def change_details(cls,course_name,faculty_name):\n",
    "        return cls(course_name,faculty_name)\n",
    "    def get_details(self):\n",
    "        return self.course_name,self.faculty_name"
   ]
  },
  {
   "cell_type": "code",
   "execution_count": 237,
   "id": "ae256c10-5d4c-48f1-96c0-96c05324b4c3",
   "metadata": {},
   "outputs": [],
   "source": [
    "var=course4(\"javascript\",\"shak\")"
   ]
  },
  {
   "cell_type": "code",
   "execution_count": 238,
   "id": "0152eddd-7fbd-45a9-b62b-99625c8c76a5",
   "metadata": {},
   "outputs": [
    {
     "data": {
      "text/plain": [
       "('javascript', 'faculty name')"
      ]
     },
     "execution_count": 238,
     "metadata": {},
     "output_type": "execute_result"
    }
   ],
   "source": [
    "var.course_name,'faculty name'"
   ]
  },
  {
   "cell_type": "code",
   "execution_count": 239,
   "id": "3c51bd87-934f-4e45-bc76-fd179ef69e04",
   "metadata": {},
   "outputs": [
    {
     "data": {
      "text/plain": [
       "'shak'"
      ]
     },
     "execution_count": 239,
     "metadata": {},
     "output_type": "execute_result"
    }
   ],
   "source": [
    "var.faculty_name"
   ]
  },
  {
   "cell_type": "code",
   "execution_count": 240,
   "id": "531af448-f6c9-4f91-80aa-b8dd6a9d30f2",
   "metadata": {},
   "outputs": [],
   "source": [
    "a=course4"
   ]
  },
  {
   "cell_type": "code",
   "execution_count": null,
   "id": "6c57f5bf-5211-4afb-95f8-db5049bdb245",
   "metadata": {},
   "outputs": [],
   "source": [
    "a.course_name"
   ]
  },
  {
   "cell_type": "code",
   "execution_count": 194,
   "id": "91f10184-e883-4954-9807-a00bf26ddefd",
   "metadata": {},
   "outputs": [
    {
     "data": {
      "text/plain": [
       "'c++'"
      ]
     },
     "execution_count": 194,
     "metadata": {},
     "output_type": "execute_result"
    }
   ],
   "source": [
    "a.course_name"
   ]
  },
  {
   "cell_type": "code",
   "execution_count": null,
   "id": "9ae15ea1-64a0-4d46-ac4a-77cc1f44fdb1",
   "metadata": {},
   "outputs": [],
   "source": []
  }
 ],
 "metadata": {
  "kernelspec": {
   "display_name": "Python 3 (ipykernel)",
   "language": "python",
   "name": "python3"
  },
  "language_info": {
   "codemirror_mode": {
    "name": "ipython",
    "version": 3
   },
   "file_extension": ".py",
   "mimetype": "text/x-python",
   "name": "python",
   "nbconvert_exporter": "python",
   "pygments_lexer": "ipython3",
   "version": "3.10.8"
  }
 },
 "nbformat": 4,
 "nbformat_minor": 5
}
