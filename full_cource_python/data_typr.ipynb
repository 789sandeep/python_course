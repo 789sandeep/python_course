{
 "cells": [
  {
   "cell_type": "code",
   "execution_count": 1,
   "id": "2f5e2781-6135-4270-a3b4-8efbddcf47dd",
   "metadata": {},
   "outputs": [],
   "source": [
    "s=19"
   ]
  },
  {
   "cell_type": "code",
   "execution_count": 2,
   "id": "73bd30a2-42ed-41ee-8e04-8f8239e8e95a",
   "metadata": {},
   "outputs": [
    {
     "data": {
      "text/plain": [
       "19"
      ]
     },
     "execution_count": 2,
     "metadata": {},
     "output_type": "execute_result"
    }
   ],
   "source": [
    "s"
   ]
  },
  {
   "cell_type": "code",
   "execution_count": 3,
   "id": "52070342-e259-4b84-bf97-a2055b01eb8d",
   "metadata": {},
   "outputs": [],
   "source": [
    "f=20.3"
   ]
  },
  {
   "cell_type": "code",
   "execution_count": 4,
   "id": "05ed51d8-247d-4e76-96f2-4a47e7fe3b63",
   "metadata": {},
   "outputs": [
    {
     "data": {
      "text/plain": [
       "20.3"
      ]
     },
     "execution_count": 4,
     "metadata": {},
     "output_type": "execute_result"
    }
   ],
   "source": [
    "f"
   ]
  },
  {
   "cell_type": "code",
   "execution_count": 5,
   "id": "7aab696c-06c1-4c07-9322-37f3a1a0f192",
   "metadata": {},
   "outputs": [],
   "source": [
    "st=\"hello this is my program on jupyter note book\""
   ]
  },
  {
   "cell_type": "code",
   "execution_count": 6,
   "id": "3e8b46dc-7184-45f9-9197-7738f2da2a5e",
   "metadata": {},
   "outputs": [
    {
     "data": {
      "text/plain": [
       "'hello this is my program on jupyter note book'"
      ]
     },
     "execution_count": 6,
     "metadata": {},
     "output_type": "execute_result"
    }
   ],
   "source": [
    "st"
   ]
  },
  {
   "cell_type": "code",
   "execution_count": 7,
   "id": "067d5a33-76f0-4acc-8126-2da1ddc3096f",
   "metadata": {},
   "outputs": [
    {
     "data": {
      "text/plain": [
       "int"
      ]
     },
     "execution_count": 7,
     "metadata": {},
     "output_type": "execute_result"
    }
   ],
   "source": [
    "type(s)"
   ]
  },
  {
   "cell_type": "code",
   "execution_count": 8,
   "id": "4a904c1e-80f8-4e90-9f4f-c932224c5184",
   "metadata": {},
   "outputs": [
    {
     "data": {
      "text/plain": [
       "float"
      ]
     },
     "execution_count": 8,
     "metadata": {},
     "output_type": "execute_result"
    }
   ],
   "source": [
    "type(f)"
   ]
  },
  {
   "cell_type": "code",
   "execution_count": 15,
   "id": "80194d12-836b-4314-9c83-1f5d1f482e33",
   "metadata": {},
   "outputs": [
    {
     "data": {
      "text/plain": [
       "str"
      ]
     },
     "execution_count": 15,
     "metadata": {},
     "output_type": "execute_result"
    }
   ],
   "source": [
    "type(st)"
   ]
  },
  {
   "cell_type": "code",
   "execution_count": 16,
   "id": "07611d41-7c4f-42b3-8cb5-8c7d4ca47402",
   "metadata": {},
   "outputs": [],
   "source": [
    "com=1+2j"
   ]
  },
  {
   "cell_type": "code",
   "execution_count": 17,
   "id": "bfba0d09-654e-448c-a506-be25c9c68678",
   "metadata": {},
   "outputs": [
    {
     "data": {
      "text/plain": [
       "(1+2j)"
      ]
     },
     "execution_count": 17,
     "metadata": {},
     "output_type": "execute_result"
    }
   ],
   "source": [
    "com"
   ]
  },
  {
   "cell_type": "code",
   "execution_count": 19,
   "id": "9c61a085-11e9-4168-a4cf-0d2293bd8461",
   "metadata": {},
   "outputs": [
    {
     "data": {
      "text/plain": [
       "1.0"
      ]
     },
     "execution_count": 19,
     "metadata": {},
     "output_type": "execute_result"
    }
   ],
   "source": [
    "com.real"
   ]
  },
  {
   "cell_type": "code",
   "execution_count": 20,
   "id": "1e6113a4-c6a2-4d56-83f0-ff704f8bd191",
   "metadata": {},
   "outputs": [
    {
     "data": {
      "text/plain": [
       "2.0"
      ]
     },
     "execution_count": 20,
     "metadata": {},
     "output_type": "execute_result"
    }
   ],
   "source": [
    "com.imag"
   ]
  },
  {
   "cell_type": "code",
   "execution_count": 21,
   "id": "ff325aa6-403c-4138-9394-a7ae65ca400f",
   "metadata": {},
   "outputs": [
    {
     "data": {
      "text/plain": [
       "'hello this is my program on jupyter note book'"
      ]
     },
     "execution_count": 21,
     "metadata": {},
     "output_type": "execute_result"
    }
   ],
   "source": [
    "st"
   ]
  },
  {
   "cell_type": "code",
   "execution_count": 22,
   "id": "2d13b365-36ab-4990-a317-85926f05ebf2",
   "metadata": {},
   "outputs": [
    {
     "data": {
      "text/plain": [
       "'ello this is my program on jupyter note book'"
      ]
     },
     "execution_count": 22,
     "metadata": {},
     "output_type": "execute_result"
    }
   ],
   "source": [
    "st[1::]"
   ]
  },
  {
   "cell_type": "code",
   "execution_count": 23,
   "id": "1fe97843-da9c-43d0-afb9-09c1f29a0386",
   "metadata": {},
   "outputs": [
    {
     "data": {
      "text/plain": [
       "'hello this is my program on jupyter note book'"
      ]
     },
     "execution_count": 23,
     "metadata": {},
     "output_type": "execute_result"
    }
   ],
   "source": [
    "st[0::]"
   ]
  },
  {
   "cell_type": "code",
   "execution_count": 24,
   "id": "4ea9aa56-72ea-4901-99cb-528de6799bb9",
   "metadata": {},
   "outputs": [
    {
     "data": {
      "text/plain": [
       "'koob eton retypuj no margorp ym si siht olleh'"
      ]
     },
     "execution_count": 24,
     "metadata": {},
     "output_type": "execute_result"
    }
   ],
   "source": [
    "st[::-1]"
   ]
  },
  {
   "cell_type": "code",
   "execution_count": 25,
   "id": "a907c850-a194-42bf-9407-c374331e83cd",
   "metadata": {},
   "outputs": [
    {
     "data": {
      "text/plain": [
       "'ll'"
      ]
     },
     "execution_count": 25,
     "metadata": {},
     "output_type": "execute_result"
    }
   ],
   "source": [
    "st[2:4]"
   ]
  },
  {
   "cell_type": "code",
   "execution_count": 26,
   "id": "69aa33d0-c0bd-412e-a6b8-686d7b3eb4de",
   "metadata": {},
   "outputs": [
    {
     "data": {
      "text/plain": [
       "'hello this is my program on jupyter note book'"
      ]
     },
     "execution_count": 26,
     "metadata": {},
     "output_type": "execute_result"
    }
   ],
   "source": [
    "st[:90:]"
   ]
  },
  {
   "cell_type": "code",
   "execution_count": 27,
   "id": "bc8f73ca-8697-41fb-bd76-9af856c1a44a",
   "metadata": {},
   "outputs": [
    {
     "data": {
      "text/plain": [
       "'hello this is my program on jupyter note book'"
      ]
     },
     "execution_count": 27,
     "metadata": {},
     "output_type": "execute_result"
    }
   ],
   "source": [
    "st[-90::]"
   ]
  },
  {
   "cell_type": "code",
   "execution_count": 28,
   "id": "bc1736b3-26ec-4bd4-b109-e931d507972c",
   "metadata": {},
   "outputs": [
    {
     "data": {
      "text/plain": [
       "'k'"
      ]
     },
     "execution_count": 28,
     "metadata": {},
     "output_type": "execute_result"
    }
   ],
   "source": [
    "st[::-90]"
   ]
  },
  {
   "cell_type": "code",
   "execution_count": 29,
   "id": "ca9e10da-ba1a-46a8-a31d-d03ad044ba2d",
   "metadata": {},
   "outputs": [
    {
     "data": {
      "text/plain": [
       "<function str.upper()>"
      ]
     },
     "execution_count": 29,
     "metadata": {},
     "output_type": "execute_result"
    }
   ],
   "source": [
    "st.upper"
   ]
  },
  {
   "cell_type": "code",
   "execution_count": 30,
   "id": "c66619f2-2ef8-4924-ba7f-934568d58da5",
   "metadata": {},
   "outputs": [
    {
     "data": {
      "text/plain": [
       "'HELLO THIS IS MY PROGRAM ON JUPYTER NOTE BOOK'"
      ]
     },
     "execution_count": 30,
     "metadata": {},
     "output_type": "execute_result"
    }
   ],
   "source": [
    "st.upper()"
   ]
  },
  {
   "cell_type": "code",
   "execution_count": 31,
   "id": "234b9256-88a3-4135-9a5d-6dc1a487ab5b",
   "metadata": {},
   "outputs": [
    {
     "data": {
      "text/plain": [
       "'hello this is my program on jupyter note book'"
      ]
     },
     "execution_count": 31,
     "metadata": {},
     "output_type": "execute_result"
    }
   ],
   "source": [
    "st.lower()"
   ]
  },
  {
   "cell_type": "code",
   "execution_count": 32,
   "id": "3e0901d0-0a52-487d-b748-158422a146e8",
   "metadata": {},
   "outputs": [
    {
     "data": {
      "text/plain": [
       "'Hello This Is My Program On Jupyter Note Book'"
      ]
     },
     "execution_count": 32,
     "metadata": {},
     "output_type": "execute_result"
    }
   ],
   "source": [
    "st.title()"
   ]
  },
  {
   "cell_type": "code",
   "execution_count": 33,
   "id": "a476f354-a68b-4c5e-935a-772fc96db667",
   "metadata": {},
   "outputs": [
    {
     "data": {
      "text/plain": [
       "'Hello this is my program on jupyter note book'"
      ]
     },
     "execution_count": 33,
     "metadata": {},
     "output_type": "execute_result"
    }
   ],
   "source": [
    "st.capitalize()"
   ]
  },
  {
   "cell_type": "code",
   "execution_count": 34,
   "id": "561b49b6-571a-42c7-8374-8efe5ede662a",
   "metadata": {},
   "outputs": [
    {
     "data": {
      "text/plain": [
       "'hello this is my program on jupyter note book567'"
      ]
     },
     "execution_count": 34,
     "metadata": {},
     "output_type": "execute_result"
    }
   ],
   "source": [
    "#conatination\n",
    "st+\"567\""
   ]
  },
  {
   "cell_type": "code",
   "execution_count": 35,
   "id": "74cdb61b-ba24-407e-afdd-acc00472912c",
   "metadata": {},
   "outputs": [
    {
     "data": {
      "text/plain": [
       "'hello this is my program on jupyter note bookhello this is my program on jupyter note bookhello this is my program on jupyter note bookhello this is my program on jupyter note bookhello this is my program on jupyter note book'"
      ]
     },
     "execution_count": 35,
     "metadata": {},
     "output_type": "execute_result"
    }
   ],
   "source": [
    "st*5"
   ]
  },
  {
   "cell_type": "code",
   "execution_count": 36,
   "id": "be30d2d8-4b42-48d0-8fc2-2e92757e0b4e",
   "metadata": {},
   "outputs": [
    {
     "ename": "TypeError",
     "evalue": "unsupported operand type(s) for /: 'str' and 'int'",
     "output_type": "error",
     "traceback": [
      "\u001b[0;31m---------------------------------------------------------------------------\u001b[0m",
      "\u001b[0;31mTypeError\u001b[0m                                 Traceback (most recent call last)",
      "Cell \u001b[0;32mIn[36], line 1\u001b[0m\n\u001b[0;32m----> 1\u001b[0m \u001b[43mst\u001b[49m\u001b[38;5;241;43m/\u001b[39;49m\u001b[38;5;241;43m7\u001b[39;49m\n",
      "\u001b[0;31mTypeError\u001b[0m: unsupported operand type(s) for /: 'str' and 'int'"
     ]
    }
   ],
   "source": [
    "st/7"
   ]
  },
  {
   "cell_type": "code",
   "execution_count": 37,
   "id": "b6b45172-2724-4f46-8a86-b8cf5ba11e0f",
   "metadata": {},
   "outputs": [
    {
     "ename": "TypeError",
     "evalue": "can only concatenate str (not \"int\") to str",
     "output_type": "error",
     "traceback": [
      "\u001b[0;31m---------------------------------------------------------------------------\u001b[0m",
      "\u001b[0;31mTypeError\u001b[0m                                 Traceback (most recent call last)",
      "Cell \u001b[0;32mIn[37], line 1\u001b[0m\n\u001b[0;32m----> 1\u001b[0m \u001b[43mst\u001b[49m\u001b[38;5;241;43m+\u001b[39;49m\u001b[38;5;241;43m9\u001b[39;49m\n",
      "\u001b[0;31mTypeError\u001b[0m: can only concatenate str (not \"int\") to str"
     ]
    }
   ],
   "source": [
    "st+9"
   ]
  },
  {
   "cell_type": "code",
   "execution_count": 38,
   "id": "c79a87ea-03c2-49e2-ba3e-fa56cf93a239",
   "metadata": {},
   "outputs": [],
   "source": [
    "bol=True"
   ]
  },
  {
   "cell_type": "code",
   "execution_count": 39,
   "id": "177e67c9-f829-4421-bba4-90ca464555fa",
   "metadata": {},
   "outputs": [
    {
     "data": {
      "text/plain": [
       "2"
      ]
     },
     "execution_count": 39,
     "metadata": {},
     "output_type": "execute_result"
    }
   ],
   "source": [
    "bol+bol"
   ]
  },
  {
   "cell_type": "code",
   "execution_count": 40,
   "id": "d3a49d23-ee3d-45a0-8c0e-d6cabd6d6eee",
   "metadata": {},
   "outputs": [
    {
     "data": {
      "text/plain": [
       "True"
      ]
     },
     "execution_count": 40,
     "metadata": {},
     "output_type": "execute_result"
    }
   ],
   "source": [
    "bol"
   ]
  },
  {
   "cell_type": "code",
   "execution_count": 41,
   "id": "327fea8c-29da-4a05-b157-6c13db1550bf",
   "metadata": {},
   "outputs": [],
   "source": [
    "bol1=False"
   ]
  },
  {
   "cell_type": "code",
   "execution_count": 42,
   "id": "f7560f6e-b8e0-4b69-9824-2214275b98d0",
   "metadata": {},
   "outputs": [
    {
     "data": {
      "text/plain": [
       "False"
      ]
     },
     "execution_count": 42,
     "metadata": {},
     "output_type": "execute_result"
    }
   ],
   "source": [
    "bol1"
   ]
  },
  {
   "cell_type": "code",
   "execution_count": 43,
   "id": "c63b9628-d3e1-4e01-b53e-eb97ff79e1fb",
   "metadata": {},
   "outputs": [
    {
     "data": {
      "text/plain": [
       "1"
      ]
     },
     "execution_count": 43,
     "metadata": {},
     "output_type": "execute_result"
    }
   ],
   "source": [
    "bol+bol1"
   ]
  },
  {
   "cell_type": "code",
   "execution_count": 44,
   "id": "a757f114-9251-4173-8378-ef28dca5b86f",
   "metadata": {},
   "outputs": [
    {
     "data": {
      "text/plain": [
       "0"
      ]
     },
     "execution_count": 44,
     "metadata": {},
     "output_type": "execute_result"
    }
   ],
   "source": [
    "bol*bol1"
   ]
  },
  {
   "cell_type": "code",
   "execution_count": 45,
   "id": "d41d04ec-d56f-49be-ab62-d1b8a826c8d2",
   "metadata": {},
   "outputs": [
    {
     "data": {
      "text/plain": [
       "0"
      ]
     },
     "execution_count": 45,
     "metadata": {},
     "output_type": "execute_result"
    }
   ],
   "source": [
    "bol1+bol1"
   ]
  },
  {
   "cell_type": "code",
   "execution_count": 46,
   "id": "d4f1859f-8456-4dbb-adeb-72165fcef5d3",
   "metadata": {},
   "outputs": [
    {
     "ename": "ZeroDivisionError",
     "evalue": "division by zero",
     "output_type": "error",
     "traceback": [
      "\u001b[0;31m---------------------------------------------------------------------------\u001b[0m",
      "\u001b[0;31mZeroDivisionError\u001b[0m                         Traceback (most recent call last)",
      "Cell \u001b[0;32mIn[46], line 1\u001b[0m\n\u001b[0;32m----> 1\u001b[0m \u001b[43mbol\u001b[49m\u001b[38;5;241;43m/\u001b[39;49m\u001b[43mbol1\u001b[49m\n",
      "\u001b[0;31mZeroDivisionError\u001b[0m: division by zero"
     ]
    }
   ],
   "source": [
    "bol/bol1"
   ]
  },
  {
   "cell_type": "code",
   "execution_count": null,
   "id": "44fef291-9a4a-447c-a905-3b240d5d2ddc",
   "metadata": {},
   "outputs": [],
   "source": []
  }
 ],
 "metadata": {
  "kernelspec": {
   "display_name": "Python 3 (ipykernel)",
   "language": "python",
   "name": "python3"
  },
  "language_info": {
   "codemirror_mode": {
    "name": "ipython",
    "version": 3
   },
   "file_extension": ".py",
   "mimetype": "text/x-python",
   "name": "python",
   "nbconvert_exporter": "python",
   "pygments_lexer": "ipython3",
   "version": "3.10.8"
  }
 },
 "nbformat": 4,
 "nbformat_minor": 5
}
