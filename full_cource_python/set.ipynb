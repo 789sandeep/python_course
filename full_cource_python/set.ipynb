{
 "cells": [
  {
   "cell_type": "code",
   "execution_count": 1,
   "id": "f2ac70ee-34c9-41a1-8301-25283e48ca08",
   "metadata": {},
   "outputs": [],
   "source": [
    "set_data={}"
   ]
  },
  {
   "cell_type": "code",
   "execution_count": 2,
   "id": "524480d6-70cf-4a06-a0f8-dfdb1b80a6e6",
   "metadata": {},
   "outputs": [
    {
     "data": {
      "text/plain": [
       "dict"
      ]
     },
     "execution_count": 2,
     "metadata": {},
     "output_type": "execute_result"
    }
   ],
   "source": [
    "type(set_data)"
   ]
  },
  {
   "cell_type": "code",
   "execution_count": 3,
   "id": "2129c480-86c8-4b09-a5e9-9050ca3d9e5a",
   "metadata": {},
   "outputs": [],
   "source": [
    "set_data={1,2,3,52,4,2,3,4,1,3}"
   ]
  },
  {
   "cell_type": "code",
   "execution_count": 4,
   "id": "6135974d-dd0a-4203-a982-8b6edccb2505",
   "metadata": {},
   "outputs": [
    {
     "data": {
      "text/plain": [
       "{1, 2, 3, 4, 52}"
      ]
     },
     "execution_count": 4,
     "metadata": {},
     "output_type": "execute_result"
    }
   ],
   "source": [
    "set_data"
   ]
  },
  {
   "cell_type": "code",
   "execution_count": 5,
   "id": "f663e7d9-4c85-4027-a02f-abe84f09642c",
   "metadata": {},
   "outputs": [
    {
     "ename": "TypeError",
     "evalue": "'set' object is not subscriptable",
     "output_type": "error",
     "traceback": [
      "\u001b[0;31m---------------------------------------------------------------------------\u001b[0m",
      "\u001b[0;31mTypeError\u001b[0m                                 Traceback (most recent call last)",
      "Cell \u001b[0;32mIn[5], line 1\u001b[0m\n\u001b[0;32m----> 1\u001b[0m \u001b[43mset_data\u001b[49m\u001b[43m[\u001b[49m\u001b[43m:\u001b[49m\u001b[43m:\u001b[49m\u001b[38;5;241;43m-\u001b[39;49m\u001b[38;5;241;43m1\u001b[39;49m\u001b[43m]\u001b[49m\n",
      "\u001b[0;31mTypeError\u001b[0m: 'set' object is not subscriptable"
     ]
    }
   ],
   "source": [
    "set_data[::-1]"
   ]
  },
  {
   "cell_type": "code",
   "execution_count": 6,
   "id": "188ccdae-fff1-458d-b8ec-5c0370f08520",
   "metadata": {},
   "outputs": [
    {
     "ename": "AttributeError",
     "evalue": "'set' object has no attribute 'reverse'",
     "output_type": "error",
     "traceback": [
      "\u001b[0;31m---------------------------------------------------------------------------\u001b[0m",
      "\u001b[0;31mAttributeError\u001b[0m                            Traceback (most recent call last)",
      "Cell \u001b[0;32mIn[6], line 1\u001b[0m\n\u001b[0;32m----> 1\u001b[0m \u001b[43mset_data\u001b[49m\u001b[38;5;241;43m.\u001b[39;49m\u001b[43mreverse\u001b[49m()\n",
      "\u001b[0;31mAttributeError\u001b[0m: 'set' object has no attribute 'reverse'"
     ]
    }
   ],
   "source": [
    "set_data.reverse()"
   ]
  },
  {
   "cell_type": "code",
   "execution_count": 7,
   "id": "e3f83bac-b4f7-4385-a379-59f937f12db2",
   "metadata": {},
   "outputs": [],
   "source": [
    "set_data.add(8)"
   ]
  },
  {
   "cell_type": "code",
   "execution_count": 8,
   "id": "b25f6602-0132-45df-b347-4b40df3942ff",
   "metadata": {},
   "outputs": [
    {
     "data": {
      "text/plain": [
       "{1, 2, 3, 4, 8, 52}"
      ]
     },
     "execution_count": 8,
     "metadata": {},
     "output_type": "execute_result"
    }
   ],
   "source": [
    "set_data"
   ]
  },
  {
   "cell_type": "code",
   "execution_count": 10,
   "id": "459f8bf0-f52e-44e6-9b16-a924b540d8f1",
   "metadata": {},
   "outputs": [],
   "source": [
    "set_data.add(\"hello\")"
   ]
  },
  {
   "cell_type": "code",
   "execution_count": 11,
   "id": "d552ce99-cc0b-4699-a5c4-cea5753f4880",
   "metadata": {},
   "outputs": [
    {
     "data": {
      "text/plain": [
       "{1, 2, 3, 4, 52, 8, 'hello'}"
      ]
     },
     "execution_count": 11,
     "metadata": {},
     "output_type": "execute_result"
    }
   ],
   "source": [
    "set_data"
   ]
  },
  {
   "cell_type": "code",
   "execution_count": 12,
   "id": "d7724781-fde5-490d-9741-16a947da9348",
   "metadata": {},
   "outputs": [],
   "source": [
    "set_data.remove(4)"
   ]
  },
  {
   "cell_type": "code",
   "execution_count": 14,
   "id": "38487c89-9727-4696-a145-c1c704fcd19d",
   "metadata": {},
   "outputs": [
    {
     "data": {
      "text/plain": [
       "{1, 2, 3, 52, 8, 'hello'}"
      ]
     },
     "execution_count": 14,
     "metadata": {},
     "output_type": "execute_result"
    }
   ],
   "source": [
    "set_data"
   ]
  },
  {
   "cell_type": "code",
   "execution_count": 18,
   "id": "adcc5de5-35cd-468b-b423-12a58a914d61",
   "metadata": {},
   "outputs": [
    {
     "ename": "AttributeError",
     "evalue": "'set' object has no attribute 'append'",
     "output_type": "error",
     "traceback": [
      "\u001b[0;31m---------------------------------------------------------------------------\u001b[0m",
      "\u001b[0;31mAttributeError\u001b[0m                            Traceback (most recent call last)",
      "Cell \u001b[0;32mIn[18], line 1\u001b[0m\n\u001b[0;32m----> 1\u001b[0m \u001b[43mset_data\u001b[49m\u001b[38;5;241;43m.\u001b[39;49m\u001b[43mappend\u001b[49m(\u001b[38;5;241m78\u001b[39m)\n",
      "\u001b[0;31mAttributeError\u001b[0m: 'set' object has no attribute 'append'"
     ]
    }
   ],
   "source": [
    "set_data.append(78)"
   ]
  },
  {
   "cell_type": "code",
   "execution_count": null,
   "id": "fe730f27-f06c-4092-8596-0f9324bfe949",
   "metadata": {},
   "outputs": [],
   "source": []
  }
 ],
 "metadata": {
  "kernelspec": {
   "display_name": "Python 3 (ipykernel)",
   "language": "python",
   "name": "python3"
  },
  "language_info": {
   "codemirror_mode": {
    "name": "ipython",
    "version": 3
   },
   "file_extension": ".py",
   "mimetype": "text/x-python",
   "name": "python",
   "nbconvert_exporter": "python",
   "pygments_lexer": "ipython3",
   "version": "3.10.8"
  }
 },
 "nbformat": 4,
 "nbformat_minor": 5
}
