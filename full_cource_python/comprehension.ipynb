{
 "cells": [
  {
   "cell_type": "code",
   "execution_count": null,
   "id": "fd85cac4-5206-4508-a0d8-66830ac9333f",
   "metadata": {},
   "outputs": [],
   "source": [
    "l=[1,2,3,45]\n",
    "l1=[]\n",
    "for i in l:\n",
    "    l1.append(i**2)"
   ]
  },
  {
   "cell_type": "code",
   "execution_count": 22,
   "id": "b47b3e7d-71ac-433a-ad23-6b458547bdb9",
   "metadata": {},
   "outputs": [
    {
     "data": {
      "text/plain": [
       "[1, 4, 9, 2025]"
      ]
     },
     "execution_count": 22,
     "metadata": {},
     "output_type": "execute_result"
    }
   ],
   "source": [
    "l1"
   ]
  },
  {
   "cell_type": "code",
   "execution_count": 23,
   "id": "ca91d0c6-8eed-47ce-8241-b56d25bf0711",
   "metadata": {},
   "outputs": [],
   "source": [
    "l=[n**2 for n in l]"
   ]
  },
  {
   "cell_type": "code",
   "execution_count": 24,
   "id": "766df1f8-c0bc-4098-ae7d-6efda6d8aec9",
   "metadata": {},
   "outputs": [
    {
     "data": {
      "text/plain": [
       "[1, 4, 9, 2025]"
      ]
     },
     "execution_count": 24,
     "metadata": {},
     "output_type": "execute_result"
    }
   ],
   "source": [
    "l"
   ]
  },
  {
   "cell_type": "code",
   "execution_count": null,
   "id": "7941c95a-90eb-43e6-9788-654a0c54bbe8",
   "metadata": {},
   "outputs": [
    {
     "data": {
      "text/plain": [
       "[2, 34, 6]"
      ]
     },
     "execution_count": 25,
     "metadata": {},
     "output_type": "execute_result"
    }
   ],
   "source": [
    "l=[1,2,34,5,6,7]\n",
    "l1=[i for i in l if i%2 ==0]\n",
    "l1"
   ]
  },
  {
   "cell_type": "code",
   "execution_count": 26,
   "id": "c46aac44-473b-4982-a431-dd764ee0da6a",
   "metadata": {},
   "outputs": [],
   "source": [
    "l1=[\"sandeepfof\",\"fddjd\",\"fgfkog\",\"jfkjgfj\"]"
   ]
  },
  {
   "cell_type": "code",
   "execution_count": null,
   "id": "4cca617d-de00-436e-b1d7-3ad49d2eecff",
   "metadata": {},
   "outputs": [
    {
     "data": {
      "text/plain": [
       "['SANDEEPFOF', 'FDDJD', 'FGFKOG', 'JFKJGFJ']"
      ]
     },
     "execution_count": 27,
     "metadata": {},
     "output_type": "execute_result"
    }
   ],
   "source": [
    "[i.upper() for i in l1]"
   ]
  },
  {
   "cell_type": "code",
   "execution_count": 28,
   "id": "87b237d9-0d42-4d69-8ad8-a5487bd497b6",
   "metadata": {},
   "outputs": [],
   "source": [
    "d={\"name\":\"deepak\",\"course\":\"data science\",\"key\":45}"
   ]
  },
  {
   "cell_type": "code",
   "execution_count": 29,
   "id": "59cc0fe1-5a8e-4c9f-8362-b41872983829",
   "metadata": {},
   "outputs": [
    {
     "data": {
      "text/plain": [
       "{'name': 'deepak', 'course': 'data science', 'key': 45}"
      ]
     },
     "execution_count": 29,
     "metadata": {},
     "output_type": "execute_result"
    }
   ],
   "source": [
    "{i:v for i,v in d.items()}"
   ]
  },
  {
   "cell_type": "code",
   "execution_count": 30,
   "id": "bf05bd78-5bfc-4f18-9dc3-605ac9ac7745",
   "metadata": {},
   "outputs": [],
   "source": [
    "di={\"key1\":1,\"key2\":2,\"key3\":3,\"key4\":4}"
   ]
  },
  {
   "cell_type": "code",
   "execution_count": 31,
   "id": "6b97e36e-7835-42e5-a4f8-2092d5dbcdc1",
   "metadata": {},
   "outputs": [
    {
     "data": {
      "text/plain": [
       "{'key2': 2, 'key3': 3, 'key4': 4}"
      ]
     },
     "execution_count": 31,
     "metadata": {},
     "output_type": "execute_result"
    }
   ],
   "source": [
    "{i:j for i,j in di.items() if j>1}"
   ]
  },
  {
   "cell_type": "code",
   "execution_count": null,
   "id": "d340b708-660e-4087-90c6-86bd1e40d2f3",
   "metadata": {},
   "outputs": [],
   "source": []
  }
 ],
 "metadata": {
  "kernelspec": {
   "display_name": "Python 3",
   "language": "python",
   "name": "python3"
  },
  "language_info": {
   "codemirror_mode": {
    "name": "ipython",
    "version": 3
   },
   "file_extension": ".py",
   "mimetype": "text/x-python",
   "name": "python",
   "nbconvert_exporter": "python",
   "pygments_lexer": "ipython3",
   "version": "3.11.0"
  },
  "vscode": {
   "interpreter": {
    "hash": "38519c3442d9f767135b0650f6935cb54106bd9267700919f92a37291a156600"
   }
  }
 },
 "nbformat": 4,
 "nbformat_minor": 5
}
