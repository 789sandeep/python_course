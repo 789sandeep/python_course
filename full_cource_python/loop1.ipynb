{
 "cells": [
  {
   "cell_type": "code",
   "execution_count": 2,
   "id": "05c349d2-b86a-4158-a56c-dac282d68395",
   "metadata": {},
   "outputs": [],
   "source": [
    "l=[2,3,5,6,3]"
   ]
  },
  {
   "cell_type": "code",
   "execution_count": 4,
   "id": "0ee9270a-d566-4f00-b0d4-a0905b3896ca",
   "metadata": {},
   "outputs": [
    {
     "name": "stdout",
     "output_type": "stream",
     "text": [
      "2 <class 'int'>\n",
      "3 <class 'int'>\n",
      "5 <class 'int'>\n",
      "6 <class 'int'>\n",
      "3 <class 'int'>\n"
     ]
    }
   ],
   "source": [
    "for i in l:\n",
    "    print(i,type(i))"
   ]
  },
  {
   "cell_type": "code",
   "execution_count": 5,
   "id": "7b706ae0-d3c8-427a-89c4-5eed7606c683",
   "metadata": {},
   "outputs": [],
   "source": [
    "l1=[\"rakshak\",\"yash\",\"deepak\",\"dilip\",\"gaggu\"]"
   ]
  },
  {
   "cell_type": "code",
   "execution_count": 7,
   "id": "696e807a-e243-45c8-b630-4ce8948ce6eb",
   "metadata": {},
   "outputs": [
    {
     "name": "stdout",
     "output_type": "stream",
     "text": [
      "rakshak <class 'str'>\n",
      "yash <class 'str'>\n",
      "deepak <class 'str'>\n",
      "dilip <class 'str'>\n",
      "gaggu <class 'str'>\n"
     ]
    }
   ],
   "source": [
    "for i in l1:\n",
    "    print(i,type(i))"
   ]
  },
  {
   "cell_type": "code",
   "execution_count": 10,
   "id": "0b241e87-bcbe-44aa-a821-1029a0591666",
   "metadata": {},
   "outputs": [
    {
     "name": "stdout",
     "output_type": "stream",
     "text": [
      "rakshak <class 'list'>\n",
      "yash <class 'list'>\n",
      "deepak <class 'list'>\n",
      "dilip <class 'list'>\n",
      "gaggu <class 'list'>\n",
      "if for loop is able to complete itself then only else will execute\n"
     ]
    }
   ],
   "source": [
    "for i in l1:\n",
    "    print(i,type(l1))\n",
    "else:\n",
    "    print(\"if for loop is able to complete itself then only else will execute\")"
   ]
  },
  {
   "cell_type": "code",
   "execution_count": 16,
   "id": "287e98cf-21e8-4b06-b69b-cd8f25b71c20",
   "metadata": {},
   "outputs": [
    {
     "name": "stdout",
     "output_type": "stream",
     "text": [
      "rakshak\n",
      "yash\n"
     ]
    }
   ],
   "source": [
    "for i in l1:\n",
    "    if i == \"deepak\":\n",
    "        break\n",
    "    print(i)  "
   ]
  },
  {
   "cell_type": "code",
   "execution_count": 20,
   "id": "8fb5151d-a526-4912-991c-c9bd8f941529",
   "metadata": {},
   "outputs": [
    {
     "name": "stdout",
     "output_type": "stream",
     "text": [
      "rakshak\n",
      "yash\n"
     ]
    }
   ],
   "source": [
    "for i in l1:\n",
    "    if i == \"deepak\":\n",
    "        break\n",
    "    print(i)  \n",
    "else:\n",
    "    print(\"if for loop is able to complete itself then only else will execute\")"
   ]
  },
  {
   "cell_type": "code",
   "execution_count": 21,
   "id": "2801c714-d5f7-499c-9e3f-df5a77474560",
   "metadata": {},
   "outputs": [
    {
     "name": "stdout",
     "output_type": "stream",
     "text": [
      "rakshak\n",
      "yash\n",
      "dilip\n",
      "gaggu\n"
     ]
    }
   ],
   "source": [
    "for i in l1:\n",
    "    if i==\"deepak\":\n",
    "        continue\n",
    "    print(i)"
   ]
  },
  {
   "cell_type": "code",
   "execution_count": 22,
   "id": "a762175d-1da3-43aa-a24d-6b891e68ab3b",
   "metadata": {},
   "outputs": [
    {
     "name": "stdout",
     "output_type": "stream",
     "text": [
      "rakshak\n",
      "yash\n",
      "dilip\n",
      "gaggu\n",
      "if for loop is able to complete itself then only else will execute\n"
     ]
    }
   ],
   "source": [
    "for i in l1:\n",
    "    if i==\"deepak\":\n",
    "        continue\n",
    "    print(i)\n",
    "else:\n",
    "    print(\"if for loop is able to complete itself then only else will execute\")"
   ]
  },
  {
   "cell_type": "code",
   "execution_count": 24,
   "id": "74c16a99-4d22-449e-916b-1c8dffe768a9",
   "metadata": {},
   "outputs": [
    {
     "data": {
      "text/plain": [
       "range(0, 5)"
      ]
     },
     "execution_count": 24,
     "metadata": {},
     "output_type": "execute_result"
    }
   ],
   "source": [
    "range(5)#rang function is help to generate data"
   ]
  },
  {
   "cell_type": "code",
   "execution_count": 25,
   "id": "63578a85-189b-4768-8984-3f95b68ad020",
   "metadata": {},
   "outputs": [
    {
     "data": {
      "text/plain": [
       "[0, 1, 2, 3, 4]"
      ]
     },
     "execution_count": 25,
     "metadata": {},
     "output_type": "execute_result"
    }
   ],
   "source": [
    "list(range(5))"
   ]
  },
  {
   "cell_type": "code",
   "execution_count": 26,
   "id": "8046da73-e550-475f-aa04-eee95ab19796",
   "metadata": {},
   "outputs": [
    {
     "data": {
      "text/plain": [
       "[0, 1, 2, 3, 4]"
      ]
     },
     "execution_count": 26,
     "metadata": {},
     "output_type": "execute_result"
    }
   ],
   "source": [
    "list(range(0,5,1))"
   ]
  },
  {
   "cell_type": "code",
   "execution_count": 27,
   "id": "5d1a0d80-897a-4c5b-9afa-91af68a94d0a",
   "metadata": {},
   "outputs": [
    {
     "data": {
      "text/plain": [
       "[0, 5, 10, 15, 20, 25, 30, 35, 40, 45, 50, 55, 60, 65, 70, 75, 80, 85, 90, 95]"
      ]
     },
     "execution_count": 27,
     "metadata": {},
     "output_type": "execute_result"
    }
   ],
   "source": [
    "list(range(0,100,5))"
   ]
  },
  {
   "cell_type": "code",
   "execution_count": 28,
   "id": "7ca3033f-9bc3-40fd-ae88-6dd1d4b9fd77",
   "metadata": {},
   "outputs": [
    {
     "data": {
      "text/plain": [
       "['rakshak', 'yash', 'deepak', 'dilip', 'gaggu']"
      ]
     },
     "execution_count": 28,
     "metadata": {},
     "output_type": "execute_result"
    }
   ],
   "source": [
    "l1"
   ]
  },
  {
   "cell_type": "code",
   "execution_count": 29,
   "id": "b669cccf-8ec1-4fe2-8f96-8800eb5d234e",
   "metadata": {},
   "outputs": [
    {
     "data": {
      "text/plain": [
       "5"
      ]
     },
     "execution_count": 29,
     "metadata": {},
     "output_type": "execute_result"
    }
   ],
   "source": [
    "len(l1)"
   ]
  },
  {
   "cell_type": "code",
   "execution_count": 31,
   "id": "8227ae05-dddf-43dc-a6ca-441a1f501337",
   "metadata": {},
   "outputs": [
    {
     "data": {
      "text/plain": [
       "[0, 1, 2, 3, 4]"
      ]
     },
     "execution_count": 31,
     "metadata": {},
     "output_type": "execute_result"
    }
   ],
   "source": [
    "list(range(len(l1)))"
   ]
  },
  {
   "cell_type": "code",
   "execution_count": 32,
   "id": "0cbf542b-901f-40cf-a9d5-cc1349a8f3ce",
   "metadata": {},
   "outputs": [
    {
     "name": "stdout",
     "output_type": "stream",
     "text": [
      "rakshak\n",
      "yash\n",
      "deepak\n",
      "dilip\n",
      "gaggu\n"
     ]
    }
   ],
   "source": [
    "for i in range(len(l1)):\n",
    "    print(l1[i])"
   ]
  },
  {
   "cell_type": "code",
   "execution_count": 39,
   "id": "dc3487d7-a094-436b-9dfe-245532ee48eb",
   "metadata": {},
   "outputs": [
    {
     "data": {
      "text/plain": [
       "[4, 3, 2, 1]"
      ]
     },
     "execution_count": 39,
     "metadata": {},
     "output_type": "execute_result"
    }
   ],
   "source": [
    "list(range(len(l1)-1,0,-1))"
   ]
  },
  {
   "cell_type": "code",
   "execution_count": 41,
   "id": "5693bada-274d-4891-9cae-4f09922d10ae",
   "metadata": {},
   "outputs": [
    {
     "name": "stdout",
     "output_type": "stream",
     "text": [
      "gaggu\n",
      "dilip\n",
      "deepak\n",
      "yash\n",
      "rakshak\n"
     ]
    }
   ],
   "source": [
    "for i in range(len(l1)-1,-1,-1):\n",
    "    print(l1[i])"
   ]
  },
  {
   "cell_type": "code",
   "execution_count": 50,
   "id": "1e963fed-1c77-444b-9599-9f41e96dc570",
   "metadata": {},
   "outputs": [
    {
     "data": {
      "text/plain": [
       "[0, 2, 4, 6, 8, 10]"
      ]
     },
     "execution_count": 50,
     "metadata": {},
     "output_type": "execute_result"
    }
   ],
   "source": [
    "list(range(0,len(l2),2))"
   ]
  },
  {
   "cell_type": "code",
   "execution_count": 46,
   "id": "202834f1-46a0-4f02-adab-34eb15632880",
   "metadata": {},
   "outputs": [],
   "source": [
    "l2=[23,25,5,2,3,64,6,3,6,35,34]"
   ]
  },
  {
   "cell_type": "code",
   "execution_count": 53,
   "id": "aae1f431-67a1-4b1c-b87c-ab203ef9cd88",
   "metadata": {},
   "outputs": [
    {
     "data": {
      "text/plain": [
       "11"
      ]
     },
     "execution_count": 53,
     "metadata": {},
     "output_type": "execute_result"
    }
   ],
   "source": [
    "len(l2)"
   ]
  },
  {
   "cell_type": "code",
   "execution_count": 52,
   "id": "5930eeb3-3de7-48cc-9655-e6ddbe731d7b",
   "metadata": {},
   "outputs": [
    {
     "name": "stdout",
     "output_type": "stream",
     "text": [
      "23\n",
      "5\n",
      "3\n",
      "6\n",
      "6\n",
      "34\n"
     ]
    }
   ],
   "source": [
    "for i in range(0,len(l2),2):\n",
    "    print(l2[i])"
   ]
  },
  {
   "cell_type": "code",
   "execution_count": 48,
   "id": "33a77b2d-2355-4eb2-8d3a-5b8b9b47eca9",
   "metadata": {},
   "outputs": [
    {
     "name": "stdout",
     "output_type": "stream",
     "text": [
      "25\n",
      "2\n",
      "64\n",
      "3\n",
      "35\n"
     ]
    }
   ],
   "source": [
    "for i in range(len(l2)):\n",
    "    if i%2:\n",
    "        print(l2[i])"
   ]
  },
  {
   "cell_type": "code",
   "execution_count": 64,
   "id": "e955423a-ee32-45f8-8809-c5fa3f6ee916",
   "metadata": {},
   "outputs": [
    {
     "data": {
      "text/plain": [
       "[23, 25, 5, 2, 3, 64, 6, 3, 6, 35, 34]"
      ]
     },
     "execution_count": 64,
     "metadata": {},
     "output_type": "execute_result"
    }
   ],
   "source": [
    "l2"
   ]
  },
  {
   "cell_type": "code",
   "execution_count": 65,
   "id": "5974b707-1232-407e-87a2-4b360ff7386c",
   "metadata": {},
   "outputs": [
    {
     "data": {
      "text/plain": [
       "206"
      ]
     },
     "execution_count": 65,
     "metadata": {},
     "output_type": "execute_result"
    }
   ],
   "source": [
    "sum(l2)"
   ]
  },
  {
   "cell_type": "code",
   "execution_count": 66,
   "id": "23b41139-cec2-45ce-a8ba-a7ef01d4cb00",
   "metadata": {},
   "outputs": [
    {
     "name": "stdout",
     "output_type": "stream",
     "text": [
      "206\n"
     ]
    }
   ],
   "source": [
    "ans=0\n",
    "for i in l2:\n",
    "    ans=ans+i\n",
    "print(ans)"
   ]
  },
  {
   "cell_type": "code",
   "execution_count": 67,
   "id": "b2b8d475-d2d3-49ac-9e5a-ce1e9ff21100",
   "metadata": {},
   "outputs": [],
   "source": [
    "t=(2,4,5,23,52,3)"
   ]
  },
  {
   "cell_type": "code",
   "execution_count": 68,
   "id": "3f8bf460-65b4-4d3c-b0a0-0535cd5b6ca4",
   "metadata": {},
   "outputs": [
    {
     "name": "stdout",
     "output_type": "stream",
     "text": [
      "2\n",
      "4\n",
      "5\n",
      "23\n",
      "52\n",
      "3\n"
     ]
    }
   ],
   "source": [
    "for i in t:\n",
    "    print(i)"
   ]
  },
  {
   "cell_type": "code",
   "execution_count": 84,
   "id": "406e3edf-e2c8-4e0f-81aa-f7894fcbb423",
   "metadata": {},
   "outputs": [
    {
     "name": "stdout",
     "output_type": "stream",
     "text": [
      "89\n"
     ]
    }
   ],
   "source": [
    "ans=0\n",
    "for i in range(0,len(t),1):\n",
    "    ans=ans+t[i]\n",
    "print(ans)"
   ]
  },
  {
   "cell_type": "code",
   "execution_count": null,
   "id": "c32bf470-da17-423c-bb95-0682be960ac9",
   "metadata": {},
   "outputs": [],
   "source": []
  }
 ],
 "metadata": {
  "kernelspec": {
   "display_name": "Python 3 (ipykernel)",
   "language": "python",
   "name": "python3"
  },
  "language_info": {
   "codemirror_mode": {
    "name": "ipython",
    "version": 3
   },
   "file_extension": ".py",
   "mimetype": "text/x-python",
   "name": "python",
   "nbconvert_exporter": "python",
   "pygments_lexer": "ipython3",
   "version": "3.10.8"
  }
 },
 "nbformat": 4,
 "nbformat_minor": 5
}
