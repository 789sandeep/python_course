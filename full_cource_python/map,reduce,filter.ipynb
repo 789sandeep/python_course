{
 "cells": [
  {
   "cell_type": "code",
   "execution_count": 8,
   "id": "7706b758-0ca3-4f06-aac4-6410dc06bb44",
   "metadata": {},
   "outputs": [],
   "source": [
    "l=[1,2,3,4]"
   ]
  },
  {
   "cell_type": "code",
   "execution_count": 9,
   "id": "dc4cb2fb-4f81-46e3-a95e-6721e3db1ff8",
   "metadata": {},
   "outputs": [
    {
     "data": {
      "text/plain": [
       "[1, 4, 9, 16]"
      ]
     },
     "execution_count": 9,
     "metadata": {},
     "output_type": "execute_result"
    }
   ],
   "source": [
    "def test(l):\n",
    "    l1=[]\n",
    "    for i in l:\n",
    "        l1.append(i**2)\n",
    "    return l1\n",
    "test(l)"
   ]
  },
  {
   "cell_type": "code",
   "execution_count": 13,
   "id": "cc8406d7-c83e-42e3-b339-dac6ba889092",
   "metadata": {},
   "outputs": [
    {
     "data": {
      "text/plain": [
       "[1, 9, 49]"
      ]
     },
     "execution_count": 13,
     "metadata": {},
     "output_type": "execute_result"
    }
   ],
   "source": [
    "x=[1,3,7]\n",
    "a=lambda x:x**2\n",
    "list(map(a,x))"
   ]
  },
  {
   "cell_type": "code",
   "execution_count": 18,
   "id": "de6483de-b69b-4c3c-91d3-27042dcd70e5",
   "metadata": {},
   "outputs": [
    {
     "data": {
      "text/plain": [
       "[2, 4, 9, 10]"
      ]
     },
     "execution_count": 18,
     "metadata": {},
     "output_type": "execute_result"
    }
   ],
   "source": [
    "l=[1,2,4,6]\n",
    "l1=[1,2,5,4]\n",
    "#a=lambda l,l1:l+l1\n",
    "#list(map(a,l,l1))\n",
    "list(map(lambda x,y:x+y,l,l1))"
   ]
  },
  {
   "cell_type": "code",
   "execution_count": 19,
   "id": "e1d158ea-5622-43b5-8630-762458141d16",
   "metadata": {},
   "outputs": [
    {
     "data": {
      "text/plain": [
       "[2, 4, 9, 10]"
      ]
     },
     "execution_count": 19,
     "metadata": {},
     "output_type": "execute_result"
    }
   ],
   "source": [
    "def add(x,y):\n",
    "    return x+y\n",
    "list(map(add,l,l1))"
   ]
  },
  {
   "cell_type": "code",
   "execution_count": 20,
   "id": "533c7e45-4d1f-4b45-9f43-2928bf7b6a3d",
   "metadata": {},
   "outputs": [],
   "source": [
    "from functools import reduce"
   ]
  },
  {
   "cell_type": "code",
   "execution_count": 21,
   "id": "8d8aafe8-4671-4d0a-af80-70dbd7ef174c",
   "metadata": {},
   "outputs": [],
   "source": [
    "l=[1,2,3,4,5,6,7]"
   ]
  },
  {
   "cell_type": "code",
   "execution_count": 22,
   "id": "0625b748-94c4-4646-ad4f-24135647ea42",
   "metadata": {},
   "outputs": [
    {
     "data": {
      "text/plain": [
       "28"
      ]
     },
     "execution_count": 22,
     "metadata": {},
     "output_type": "execute_result"
    }
   ],
   "source": [
    "reduce(lambda x,y:x+y,l)"
   ]
  },
  {
   "cell_type": "code",
   "execution_count": 4,
   "id": "23feb0a8-c8e4-4ab1-a92e-cd2cd3454c7e",
   "metadata": {},
   "outputs": [
    {
     "ename": "NameError",
     "evalue": "name 'reduce' is not defined",
     "output_type": "error",
     "traceback": [
      "\u001b[0;31m---------------------------------------------------------------------------\u001b[0m",
      "\u001b[0;31mNameError\u001b[0m                                 Traceback (most recent call last)",
      "Cell \u001b[0;32mIn[4], line 1\u001b[0m\n\u001b[0;32m----> 1\u001b[0m \u001b[43mreduce\u001b[49m(\u001b[38;5;28;01mlambda\u001b[39;00m x,y,z:x\u001b[38;5;241m+\u001b[39my\u001b[38;5;241m+\u001b[39mz,l)\u001b[38;5;66;03m#error\u001b[39;00m\n",
      "\u001b[0;31mNameError\u001b[0m: name 'reduce' is not defined"
     ]
    }
   ],
   "source": [
    "reduce(lambda x,y,z:x+y+z,l)#error"
   ]
  },
  {
   "cell_type": "code",
   "execution_count": 24,
   "id": "17a7efe7-39db-4491-ab4a-56e940b61948",
   "metadata": {},
   "outputs": [
    {
     "ename": "TypeError",
     "evalue": "reduce() of empty iterable with no initial value",
     "output_type": "error",
     "traceback": [
      "\u001b[0;31m---------------------------------------------------------------------------\u001b[0m",
      "\u001b[0;31mTypeError\u001b[0m                                 Traceback (most recent call last)",
      "Cell \u001b[0;32mIn[24], line 1\u001b[0m\n\u001b[0;32m----> 1\u001b[0m \u001b[43mreduce\u001b[49m\u001b[43m(\u001b[49m\u001b[38;5;28;43;01mlambda\u001b[39;49;00m\u001b[43m \u001b[49m\u001b[43mx\u001b[49m\u001b[43m,\u001b[49m\u001b[43my\u001b[49m\u001b[43m:\u001b[49m\u001b[43mx\u001b[49m\u001b[38;5;241;43m+\u001b[39;49m\u001b[43my\u001b[49m\u001b[43m,\u001b[49m\u001b[43m[\u001b[49m\u001b[43m]\u001b[49m\u001b[43m)\u001b[49m\u001b[38;5;66;03m#error\u001b[39;00m\n",
      "\u001b[0;31mTypeError\u001b[0m: reduce() of empty iterable with no initial value"
     ]
    }
   ],
   "source": [
    "reduce(lambda x,y:x+y,[])#error"
   ]
  },
  {
   "cell_type": "code",
   "execution_count": 25,
   "id": "f0e958fc-689b-4547-ad28-014d413c8989",
   "metadata": {},
   "outputs": [
    {
     "data": {
      "text/plain": [
       "1"
      ]
     },
     "execution_count": 25,
     "metadata": {},
     "output_type": "execute_result"
    }
   ],
   "source": [
    "reduce(lambda x,y:x+y,[1])"
   ]
  },
  {
   "cell_type": "code",
   "execution_count": 26,
   "id": "da1b1553-16b8-4d55-8c3d-41e23805b9b7",
   "metadata": {},
   "outputs": [
    {
     "data": {
      "text/plain": [
       "7"
      ]
     },
     "execution_count": 26,
     "metadata": {},
     "output_type": "execute_result"
    }
   ],
   "source": [
    "reduce(lambda x,y:x if x>y else y,l)"
   ]
  },
  {
   "cell_type": "code",
   "execution_count": 27,
   "id": "e4f84719-a6e5-43e3-be06-2f92c841b3cd",
   "metadata": {},
   "outputs": [
    {
     "data": {
      "text/plain": [
       "[1, 2, 3, 4, 5, 6, 7]"
      ]
     },
     "execution_count": 27,
     "metadata": {},
     "output_type": "execute_result"
    }
   ],
   "source": [
    "l"
   ]
  },
  {
   "cell_type": "code",
   "execution_count": 33,
   "id": "e22317ed-504f-43c3-83bd-9cabb1334364",
   "metadata": {},
   "outputs": [
    {
     "ename": "SyntaxError",
     "evalue": "expected 'else' after 'if' expression (3866402894.py, line 1)",
     "output_type": "error",
     "traceback": [
      "\u001b[0;36m  Cell \u001b[0;32mIn[33], line 1\u001b[0;36m\u001b[0m\n\u001b[0;31m    list(filter(lambda x:x if x%2==0 ,l))\u001b[0m\n\u001b[0m                         ^\u001b[0m\n\u001b[0;31mSyntaxError\u001b[0m\u001b[0;31m:\u001b[0m expected 'else' after 'if' expression\n"
     ]
    }
   ],
   "source": [
    "list(filter(lambda x:x if x%2==0 ,l))"
   ]
  },
  {
   "cell_type": "code",
   "execution_count": 34,
   "id": "a7baf0d2-892b-4a1c-a838-a334c839664f",
   "metadata": {},
   "outputs": [
    {
     "data": {
      "text/plain": [
       "[2, 4, 6]"
      ]
     },
     "execution_count": 34,
     "metadata": {},
     "output_type": "execute_result"
    }
   ],
   "source": [
    "list(filter(lambda x: x%2==0 ,l))"
   ]
  },
  {
   "cell_type": "code",
   "execution_count": 35,
   "id": "cb0a6405-277f-4049-a626-8b71b7c69282",
   "metadata": {},
   "outputs": [
    {
     "data": {
      "text/plain": [
       "[1, 3, 5, 7]"
      ]
     },
     "execution_count": 35,
     "metadata": {},
     "output_type": "execute_result"
    }
   ],
   "source": [
    "list(filter(lambda x: x%2!=0 ,l))"
   ]
  },
  {
   "cell_type": "code",
   "execution_count": 41,
   "id": "8c77fd2f-8840-4d2a-8a98-3949100a9d8c",
   "metadata": {},
   "outputs": [],
   "source": [
    "l1=[1,2,3,4,-1,2,-2,-6,-7,-9]"
   ]
  },
  {
   "cell_type": "code",
   "execution_count": 42,
   "id": "12710bd8-c9ac-4ab9-ba56-64da137dac91",
   "metadata": {},
   "outputs": [
    {
     "data": {
      "text/plain": [
       "[-1, -2, -6, -7, -9]"
      ]
     },
     "execution_count": 42,
     "metadata": {},
     "output_type": "execute_result"
    }
   ],
   "source": [
    "list(filter(lambda x: x<0,l1))"
   ]
  },
  {
   "cell_type": "code",
   "execution_count": 43,
   "id": "675d18be-5398-4096-8162-65813c7e22be",
   "metadata": {},
   "outputs": [
    {
     "data": {
      "text/plain": [
       "[1, 2, 3, 4, 2]"
      ]
     },
     "execution_count": 43,
     "metadata": {},
     "output_type": "execute_result"
    }
   ],
   "source": [
    "list(filter(lambda x: x>0,l1))"
   ]
  },
  {
   "cell_type": "code",
   "execution_count": 44,
   "id": "8c5204f0-003d-453f-8a18-fff5d03694f7",
   "metadata": {},
   "outputs": [],
   "source": [
    "l2=[\"course\",\"hello\",\"thatis\",\" good\"]"
   ]
  },
  {
   "cell_type": "code",
   "execution_count": 2,
   "id": "1f399b8f-acbe-4523-9ffd-5d7d2e3486a4",
   "metadata": {},
   "outputs": [
    {
     "data": {
      "text/plain": [
       "[]"
      ]
     },
     "execution_count": 2,
     "metadata": {},
     "output_type": "execute_result"
    }
   ],
   "source": [
    "list(filter(lambda x:x,[]))"
   ]
  },
  {
   "cell_type": "code",
   "execution_count": 3,
   "id": "2d2c72a9-39fd-43b8-a8db-ed8f133e5dc2",
   "metadata": {},
   "outputs": [
    {
     "data": {
      "text/plain": [
       "[1]"
      ]
     },
     "execution_count": 3,
     "metadata": {},
     "output_type": "execute_result"
    }
   ],
   "source": [
    "list(filter(lambda x:x,[1]))"
   ]
  },
  {
   "cell_type": "code",
   "execution_count": null,
   "id": "e7466823-1a8c-42ca-b755-c0ce7fc96d24",
   "metadata": {},
   "outputs": [],
   "source": []
  }
 ],
 "metadata": {
  "kernelspec": {
   "display_name": "Python 3 (ipykernel)",
   "language": "python",
   "name": "python3"
  },
  "language_info": {
   "codemirror_mode": {
    "name": "ipython",
    "version": 3
   },
   "file_extension": ".py",
   "mimetype": "text/x-python",
   "name": "python",
   "nbconvert_exporter": "python",
   "pygments_lexer": "ipython3",
   "version": "3.10.8"
  }
 },
 "nbformat": 4,
 "nbformat_minor": 5
}
