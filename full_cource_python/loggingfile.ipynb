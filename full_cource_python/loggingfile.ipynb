{
 "cells": [
  {
   "cell_type": "code",
   "execution_count": 20,
   "id": "b0159cb8-2536-4146-aedb-6e0d345f8ba4",
   "metadata": {},
   "outputs": [],
   "source": [
    "import logging\n",
    "logging.basicConfig(filename=\"log2.log\",level=logging.info,format=\"%(asctime)s %(name)s %(levelname)s %(message)s\")\n",
    "#logging.debug(\"this is debug\")\n",
    "logging.info(\"this is my information\")\n",
    "logging.warning(\"this is warring message\")\n",
    "logging.error(\"this is error message\")\n",
    "logging.critical(\"this is critical\")"
   ]
  },
  {
   "cell_type": "code",
   "execution_count": 26,
   "id": "2e79a2cf-7fa3-4612-ba54-3820baea8d01",
   "metadata": {},
   "outputs": [],
   "source": [
    "list=[1,2,3,4,[5,6,7,8,9],[\"yash\",\"anmol\",\"viabhav\",\"hemant\"]]\n",
    "li1=[]\n",
    "li2=[]\n",
    "for i in list:\n",
    "    logging.info(\"this is first loop in this program \"+str(i))\n",
    "    if type(i)==list:\n",
    "        logging.info(\"this if statement check i is list == to i \"+str(i))\n",
    "        for j in i:\n",
    "            logging.info(\"this is second inside loop in this program \"+str(j))\n",
    "            if type(j)==int:\n",
    "                logging.info(\"this if statement check j is == int \"+str(j))\n",
    "                li1.append(j)\n",
    "    elif type(i)==int:\n",
    "        logging.info(\"this elif statement check i is the type of int \"+str(i))\n",
    "        li1.append(i)\n",
    "    else:\n",
    "        if type(i)==str:\n",
    "            logging.info(\"this else inside if statement check i is == str \"+str(i))\n",
    "            li2.append(i)\n",
    "logging.info(\"li1 is integer value store in {l}. and li2 is string valule store in {l2}\".format(l=li1,l2=li2))   "
   ]
  },
  {
   "cell_type": "code",
   "execution_count": null,
   "id": "1672e77b-0993-4384-aa1b-4b1cf42a8926",
   "metadata": {},
   "outputs": [],
   "source": []
  }
 ],
 "metadata": {
  "kernelspec": {
   "display_name": "Python 3 (ipykernel)",
   "language": "python",
   "name": "python3"
  },
  "language_info": {
   "codemirror_mode": {
    "name": "ipython",
    "version": 3
   },
   "file_extension": ".py",
   "mimetype": "text/x-python",
   "name": "python",
   "nbconvert_exporter": "python",
   "pygments_lexer": "ipython3",
   "version": "3.10.8"
  }
 },
 "nbformat": 4,
 "nbformat_minor": 5
}
