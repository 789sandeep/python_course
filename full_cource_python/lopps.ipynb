{
 "cells": [
  {
   "cell_type": "code",
   "execution_count": 1,
   "id": "4c6c9820-09ab-4782-ab53-bdee5fbbf919",
   "metadata": {},
   "outputs": [],
   "source": [
    "l=[1,3,5,5,8,5]"
   ]
  },
  {
   "cell_type": "code",
   "execution_count": 2,
   "id": "9d6a09b3-a0e4-4a7c-8d8a-08a4f0297bb3",
   "metadata": {},
   "outputs": [],
   "source": [
    "l1=[]"
   ]
  },
  {
   "cell_type": "code",
   "execution_count": 3,
   "id": "c3b1ca07-0043-451f-8ff0-eb3a3a3972a9",
   "metadata": {},
   "outputs": [],
   "source": [
    "l1.append(l[0]+4)"
   ]
  },
  {
   "cell_type": "code",
   "execution_count": 4,
   "id": "77408fd0-d29d-4694-9269-5c9ecef4c991",
   "metadata": {},
   "outputs": [
    {
     "data": {
      "text/plain": [
       "[5]"
      ]
     },
     "execution_count": 4,
     "metadata": {},
     "output_type": "execute_result"
    }
   ],
   "source": [
    "l1"
   ]
  },
  {
   "cell_type": "code",
   "execution_count": 10,
   "id": "9cc222b6-57cd-4985-87ab-77d2575f3f05",
   "metadata": {},
   "outputs": [
    {
     "name": "stdout",
     "output_type": "stream",
     "text": [
      "[1, 3, 5, 5, 8, 5]\n"
     ]
    }
   ],
   "source": [
    "l1=[]\n",
    "for i in l:\n",
    "     l1.append(i)\n",
    "print(l1)"
   ]
  },
  {
   "cell_type": "code",
   "execution_count": 19,
   "id": "5048361f-5cbc-4195-892d-f507d8c7ba14",
   "metadata": {},
   "outputs": [
    {
     "name": "stdout",
     "output_type": "stream",
     "text": [
      "['HELLO', 'hello', 'THIS', 'this', 'LIST', 'list', 'CONVERT', 'convert', 'UPERCASE', 'upercase']\n"
     ]
    }
   ],
   "source": [
    "l2=[\"hello\",\"this\",\"list\",\"convert\",\"upercase\"]\n",
    "l1=[]\n",
    "for i in l2:\n",
    "    l1.append(i.upper())\n",
    "    l1.append(i.lower())\n",
    "print(l1)"
   ]
  },
  {
   "cell_type": "code",
   "execution_count": 42,
   "id": "e1630983-e353-40aa-85d6-3b3e65435b7d",
   "metadata": {},
   "outputs": [],
   "source": [
    "l=[1,2,3,4,\"sudh\",\"fhdhs\",\"dfdjkj\",2,35,7]\n",
    "l1=[]\n",
    "l2=[]\n",
    "for i in l:\n",
    "    if(type(i)==int or type(i)==float):\n",
    "             l1.append(i)\n",
    "    else:\n",
    "        l2.append(i)"
   ]
  },
  {
   "cell_type": "code",
   "execution_count": 43,
   "id": "012ff1ac-27f1-4806-a31b-6fdaf848f6de",
   "metadata": {},
   "outputs": [
    {
     "data": {
      "text/plain": [
       "[1, 2, 3, 4, 2, 35, 7]"
      ]
     },
     "execution_count": 43,
     "metadata": {},
     "output_type": "execute_result"
    }
   ],
   "source": [
    "l1"
   ]
  },
  {
   "cell_type": "code",
   "execution_count": 44,
   "id": "012da352-aa1c-477b-ac4a-4026871e091e",
   "metadata": {},
   "outputs": [
    {
     "data": {
      "text/plain": [
       "['sudh', 'fhdhs', 'dfdjkj']"
      ]
     },
     "execution_count": 44,
     "metadata": {},
     "output_type": "execute_result"
    }
   ],
   "source": [
    "l2"
   ]
  },
  {
   "cell_type": "code",
   "execution_count": null,
   "id": "381b7e30-a112-462c-b512-93074a7c38d4",
   "metadata": {},
   "outputs": [],
   "source": []
  }
 ],
 "metadata": {
  "kernelspec": {
   "display_name": "Python 3 (ipykernel)",
   "language": "python",
   "name": "python3"
  },
  "language_info": {
   "codemirror_mode": {
    "name": "ipython",
    "version": 3
   },
   "file_extension": ".py",
   "mimetype": "text/x-python",
   "name": "python",
   "nbconvert_exporter": "python",
   "pygments_lexer": "ipython3",
   "version": "3.10.8"
  }
 },
 "nbformat": 4,
 "nbformat_minor": 5
}
