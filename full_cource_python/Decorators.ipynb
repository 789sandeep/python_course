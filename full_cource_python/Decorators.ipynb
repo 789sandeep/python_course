{
 "cells": [
  {
   "cell_type": "code",
   "execution_count": 8,
   "id": "c581956a-0381-41dc-894d-dda4e0320808",
   "metadata": {},
   "outputs": [
    {
     "name": "stdout",
     "output_type": "stream",
     "text": [
      "79\n",
      "4.8160552978515625e-05\n"
     ]
    }
   ],
   "source": [
    "import time\n",
    "def timer_test(fun):\n",
    "    def timer_test_inner():\n",
    "        start=time.time()\n",
    "        fun()\n",
    "        end=time.time()\n",
    "        print(end - start)\n",
    "    return timer_test_inner\n",
    "@timer_test\n",
    "def test2():\n",
    "    print(45+34)\n",
    "test2()"
   ]
  },
  {
   "cell_type": "code",
   "execution_count": 7,
   "id": "11129f8e-6b80-4c73-aab5-3b8707299df9",
   "metadata": {},
   "outputs": [
    {
     "name": "stdout",
     "output_type": "stream",
     "text": [
      "79\n",
      "0.00029468536376953125\n"
     ]
    }
   ],
   "source": []
  },
  {
   "cell_type": "code",
   "execution_count": 17,
   "id": "534b7a1a-066c-4c0f-ac2b-a3502b543c41",
   "metadata": {},
   "outputs": [
    {
     "name": "stdout",
     "output_type": "stream",
     "text": [
      "hello\n",
      "second hello\n"
     ]
    }
   ],
   "source": [
    "def fun1(a):\n",
    "    def inner():\n",
    "        print(\"hello\")\n",
    "        a()\n",
    "    return inner\n",
    "@fun1\n",
    "def fun2():\n",
    "     print(\"second hello\")\n",
    "fun2()"
   ]
  },
  {
   "cell_type": "code",
   "execution_count": null,
   "id": "185aa228-80fc-4a0b-b009-5dcd346293f0",
   "metadata": {},
   "outputs": [],
   "source": []
  }
 ],
 "metadata": {
  "kernelspec": {
   "display_name": "Python 3 (ipykernel)",
   "language": "python",
   "name": "python3"
  },
  "language_info": {
   "codemirror_mode": {
    "name": "ipython",
    "version": 3
   },
   "file_extension": ".py",
   "mimetype": "text/x-python",
   "name": "python",
   "nbconvert_exporter": "python",
   "pygments_lexer": "ipython3",
   "version": "3.10.8"
  }
 },
 "nbformat": 4,
 "nbformat_minor": 5
}
