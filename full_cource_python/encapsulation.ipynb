{
 "cells": [
  {
   "cell_type": "code",
   "execution_count": 17,
   "id": "b7a8cfae-468b-461b-a20d-f436345d4269",
   "metadata": {},
   "outputs": [],
   "source": [
    "class test:\n",
    "    def __init__(self,a,b):\n",
    "        self.__a=a\n",
    "        self.b=b\n",
    "t=test(23,24)\n",
    "t.a=23343"
   ]
  },
  {
   "cell_type": "code",
   "execution_count": 14,
   "id": "23a4e3d7-76cb-4470-9605-ffaef90961c9",
   "metadata": {},
   "outputs": [
    {
     "data": {
      "text/plain": [
       "23343"
      ]
     },
     "execution_count": 14,
     "metadata": {},
     "output_type": "execute_result"
    }
   ],
   "source": [
    "t.a"
   ]
  },
  {
   "cell_type": "code",
   "execution_count": 18,
   "id": "9d1340c0-b9bd-4039-a2d8-5c40575b99ec",
   "metadata": {},
   "outputs": [],
   "source": [
    "class car:\n",
    "    def __init__(self, year, make,model,speed):\n",
    "        self.__year=year\n",
    "        self.__make=make\n",
    "        self.__model=model\n",
    "        self.__speed=speed\n",
    "    def set_speed(self,speed):\n",
    "        self.__speed=0 if speed <0 else speed\n",
    "    def get_speed(self):\n",
    "        return self.__speed"
   ]
  },
  {
   "cell_type": "code",
   "execution_count": 19,
   "id": "e8562d58-9b5e-4f0f-abcc-f5ece2799233",
   "metadata": {},
   "outputs": [],
   "source": [
    "a=car(2021,\"mahindra\",\"tata\",34)"
   ]
  },
  {
   "cell_type": "code",
   "execution_count": 11,
   "id": "a32c9aed-40b5-43ed-aedd-2490a301dc42",
   "metadata": {},
   "outputs": [
    {
     "ename": "AttributeError",
     "evalue": "'car' object has no attribute '__year'",
     "output_type": "error",
     "traceback": [
      "\u001b[0;31m---------------------------------------------------------------------------\u001b[0m",
      "\u001b[0;31mAttributeError\u001b[0m                            Traceback (most recent call last)",
      "Cell \u001b[0;32mIn[11], line 1\u001b[0m\n\u001b[0;32m----> 1\u001b[0m \u001b[43ma\u001b[49m\u001b[38;5;241;43m.\u001b[39;49m\u001b[43m__year\u001b[49m\n",
      "\u001b[0;31mAttributeError\u001b[0m: 'car' object has no attribute '__year'"
     ]
    }
   ],
   "source": [
    "a.__year"
   ]
  },
  {
   "cell_type": "code",
   "execution_count": 20,
   "id": "37d45714-ef1d-4e1d-afda-97c9f6cb73c0",
   "metadata": {},
   "outputs": [
    {
     "data": {
      "text/plain": [
       "2021"
      ]
     },
     "execution_count": 20,
     "metadata": {},
     "output_type": "execute_result"
    }
   ],
   "source": [
    "a._car__year"
   ]
  },
  {
   "cell_type": "code",
   "execution_count": 24,
   "id": "9659ec5a-8950-4033-8146-b684e70dd8c4",
   "metadata": {},
   "outputs": [],
   "source": [
    "a.set_speed(7888)"
   ]
  },
  {
   "cell_type": "code",
   "execution_count": 26,
   "id": "c474f79d-c99a-4abe-b9f3-5578cb76193c",
   "metadata": {},
   "outputs": [
    {
     "data": {
      "text/plain": [
       "7888"
      ]
     },
     "execution_count": 26,
     "metadata": {},
     "output_type": "execute_result"
    }
   ],
   "source": [
    "a.get_speed()"
   ]
  },
  {
   "cell_type": "code",
   "execution_count": 87,
   "id": "a6bf6d25-cdd9-4a2a-bcf0-a9a516ed2f6e",
   "metadata": {},
   "outputs": [],
   "source": [
    "class country:\n",
    "    def __init__(self ,name,capital,language):\n",
    "        self.__name=name\n",
    "        self.__capital=capital\n",
    "        self.__language=language\n",
    "    def change_all(self,name,capital,language):\n",
    "        self.__name=name\n",
    "        self.__capital=capital\n",
    "        self.__language=language\n",
    "    def show(self):\n",
    "        return f\"country name is {self.__name} and capital of {self.__capital} and language is{self.__language}\"\n",
    " "
   ]
  },
  {
   "cell_type": "code",
   "execution_count": 88,
   "id": "862cde88-5da2-46a4-9fb2-6c5555661724",
   "metadata": {},
   "outputs": [],
   "source": [
    "obj1=country(\"india\",\"delhi\",\"hindi\")"
   ]
  },
  {
   "cell_type": "code",
   "execution_count": 89,
   "id": "465d698f-086c-4159-b722-cc9c690fa4bb",
   "metadata": {},
   "outputs": [
    {
     "data": {
      "text/plain": [
       "'india'"
      ]
     },
     "execution_count": 89,
     "metadata": {},
     "output_type": "execute_result"
    }
   ],
   "source": [
    "obj1._country__name"
   ]
  },
  {
   "cell_type": "code",
   "execution_count": 90,
   "id": "6604fda6-1569-4340-a0fa-69e40abfdd5d",
   "metadata": {},
   "outputs": [],
   "source": [
    "obj1.change_all(\"usa\",\"washington\",\"english\")"
   ]
  },
  {
   "cell_type": "code",
   "execution_count": 91,
   "id": "49cd776f-32d0-4201-a128-44472345a9d3",
   "metadata": {},
   "outputs": [
    {
     "data": {
      "text/plain": [
       "'country name is usa and capital of washington and language isenglish'"
      ]
     },
     "execution_count": 91,
     "metadata": {},
     "output_type": "execute_result"
    }
   ],
   "source": [
    "obj1.show()"
   ]
  },
  {
   "cell_type": "code",
   "execution_count": null,
   "id": "47596050-522e-4c24-8359-c4c531152915",
   "metadata": {},
   "outputs": [],
   "source": []
  }
 ],
 "metadata": {
  "kernelspec": {
   "display_name": "Python 3 (ipykernel)",
   "language": "python",
   "name": "python3"
  },
  "language_info": {
   "codemirror_mode": {
    "name": "ipython",
    "version": 3
   },
   "file_extension": ".py",
   "mimetype": "text/x-python",
   "name": "python",
   "nbconvert_exporter": "python",
   "pygments_lexer": "ipython3",
   "version": "3.10.8"
  }
 },
 "nbformat": 4,
 "nbformat_minor": 5
}
