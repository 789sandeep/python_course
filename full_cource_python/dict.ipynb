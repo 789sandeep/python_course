{
 "cells": [
  {
   "cell_type": "code",
   "execution_count": 4,
   "id": "308ab9b7-4119-468e-aba5-86011240bccc",
   "metadata": {},
   "outputs": [],
   "source": [
    "dic={\"name\":\"sandeep\"} #dictionary work on key and value"
   ]
  },
  {
   "cell_type": "code",
   "execution_count": 2,
   "id": "1717731a-67ba-4a75-a74e-59240fb478da",
   "metadata": {},
   "outputs": [
    {
     "data": {
      "text/plain": [
       "{'name': 'sandeep'}"
      ]
     },
     "execution_count": 2,
     "metadata": {},
     "output_type": "execute_result"
    }
   ],
   "source": [
    "dic"
   ]
  },
  {
   "cell_type": "code",
   "execution_count": 3,
   "id": "df704c11-b3cd-400a-8067-19d5d31a3068",
   "metadata": {},
   "outputs": [
    {
     "data": {
      "text/plain": [
       "dict"
      ]
     },
     "execution_count": 3,
     "metadata": {},
     "output_type": "execute_result"
    }
   ],
   "source": [
    "type(dic)"
   ]
  },
  {
   "cell_type": "code",
   "execution_count": 5,
   "id": "c8b00159-cb46-44d8-b074-d4471b60e6c1",
   "metadata": {},
   "outputs": [],
   "source": [
    "dic1={\"name\":\"sandeep\",\"email\":\"enter email\"}\n",
    "#key always be unique"
   ]
  },
  {
   "cell_type": "code",
   "execution_count": 6,
   "id": "37adc0d5-2999-4ac3-8a87-af7de151766b",
   "metadata": {},
   "outputs": [
    {
     "data": {
      "text/plain": [
       "{'name': 'sandeep', 'email': 'enter email'}"
      ]
     },
     "execution_count": 6,
     "metadata": {},
     "output_type": "execute_result"
    }
   ],
   "source": [
    "dic1"
   ]
  },
  {
   "cell_type": "code",
   "execution_count": 9,
   "id": "adabafdf-06f9-4454-9ee4-4dbbb005d8a2",
   "metadata": {},
   "outputs": [
    {
     "ename": "NameError",
     "evalue": "name '_war' is not defined",
     "output_type": "error",
     "traceback": [
      "\u001b[0;31m---------------------------------------------------------------------------\u001b[0m",
      "\u001b[0;31mNameError\u001b[0m                                 Traceback (most recent call last)",
      "Cell \u001b[0;32mIn[9], line 1\u001b[0m\n\u001b[0;32m----> 1\u001b[0m a\u001b[38;5;241m=\u001b[39m{\u001b[38;5;241m234\u001b[39m:\u001b[38;5;124m\"\u001b[39m\u001b[38;5;124msfh\u001b[39m\u001b[38;5;124m\"\u001b[39m,\u001b[43m_war\u001b[49m:\u001b[38;5;124m\"\u001b[39m\u001b[38;5;124mdfdksj\u001b[39m\u001b[38;5;124m\"\u001b[39m}\n",
      "\u001b[0;31mNameError\u001b[0m: name '_war' is not defined"
     ]
    }
   ],
   "source": [
    "a1={234:\"sfh\",_war:\"dfdksj\"} #special chareacter not allowed"
   ]
  },
  {
   "cell_type": "code",
   "execution_count": 10,
   "id": "ce33f486-ca1c-4b17-9660-fb878fdcc603",
   "metadata": {},
   "outputs": [],
   "source": [
    "a={True:343}"
   ]
  },
  {
   "cell_type": "code",
   "execution_count": 11,
   "id": "f2768fc2-f941-4e00-84d9-c93f48104493",
   "metadata": {},
   "outputs": [
    {
     "data": {
      "text/plain": [
       "{True: 343}"
      ]
     },
     "execution_count": 11,
     "metadata": {},
     "output_type": "execute_result"
    }
   ],
   "source": [
    "a"
   ]
  },
  {
   "cell_type": "code",
   "execution_count": 15,
   "id": "ff9b5b0e-e236-4308-8389-75963258830d",
   "metadata": {},
   "outputs": [
    {
     "data": {
      "text/plain": [
       "343"
      ]
     },
     "execution_count": 15,
     "metadata": {},
     "output_type": "execute_result"
    }
   ],
   "source": [
    "a[True]"
   ]
  },
  {
   "cell_type": "code",
   "execution_count": 16,
   "id": "5a4b233c-6933-4c8e-b6f8-93ed1e099f3c",
   "metadata": {},
   "outputs": [
    {
     "data": {
      "text/plain": [
       "343"
      ]
     },
     "execution_count": 16,
     "metadata": {},
     "output_type": "execute_result"
    }
   ],
   "source": [
    "a[1]"
   ]
  },
  {
   "cell_type": "code",
   "execution_count": 17,
   "id": "66b3f36c-4f0f-47e2-ac59-1af869fae741",
   "metadata": {},
   "outputs": [],
   "source": [
    "d3={\"name\":\"yash\",\"Phone_number\":363472,\"name\":\"vaibhav\"}"
   ]
  },
  {
   "cell_type": "code",
   "execution_count": 19,
   "id": "cfa82b0c-9e83-4f83-ac6f-6d0e97f1c03a",
   "metadata": {},
   "outputs": [
    {
     "data": {
      "text/plain": [
       "'vaibhav'"
      ]
     },
     "execution_count": 19,
     "metadata": {},
     "output_type": "execute_result"
    }
   ],
   "source": [
    "d3[\"name\"] #key should always be unique"
   ]
  },
  {
   "cell_type": "code",
   "execution_count": 20,
   "id": "f6939ff6-c937-4553-8017-2cd32a1e7778",
   "metadata": {},
   "outputs": [],
   "source": [
    "d4={\"company\":\"hello\",\"coure\":[\"python\",\"data science\"]}"
   ]
  },
  {
   "cell_type": "code",
   "execution_count": 23,
   "id": "c5c6e888-14ea-429f-bde1-aea53279d790",
   "metadata": {},
   "outputs": [
    {
     "data": {
      "text/plain": [
       "'data science'"
      ]
     },
     "execution_count": 23,
     "metadata": {},
     "output_type": "execute_result"
    }
   ],
   "source": [
    "d4[\"coure\"][1]"
   ]
  },
  {
   "cell_type": "code",
   "execution_count": 22,
   "id": "8b24f48b-0311-4a4d-8080-a258af810c4e",
   "metadata": {},
   "outputs": [
    {
     "data": {
      "text/plain": [
       "{'company': 'hello', 'coure': ['python', 'data science']}"
      ]
     },
     "execution_count": 22,
     "metadata": {},
     "output_type": "execute_result"
    }
   ],
   "source": [
    "d4"
   ]
  },
  {
   "cell_type": "code",
   "execution_count": 24,
   "id": "63c26724-0143-4062-a347-fb0acecaf169",
   "metadata": {},
   "outputs": [],
   "source": [
    "d5={\"list\":[1,2,3,56],\"set\":{1,2,4,5},\"tuple\":(1,2,3,4,True)}"
   ]
  },
  {
   "cell_type": "code",
   "execution_count": 25,
   "id": "d2e383a2-a18c-4704-a41e-46bb27336a6a",
   "metadata": {},
   "outputs": [
    {
     "data": {
      "text/plain": [
       "{'list': [1, 2, 3, 56], 'set': {1, 2, 4, 5}, 'tuple': (1, 2, 3, 4, True)}"
      ]
     },
     "execution_count": 25,
     "metadata": {},
     "output_type": "execute_result"
    }
   ],
   "source": [
    "d5"
   ]
  },
  {
   "cell_type": "code",
   "execution_count": 27,
   "id": "9654cf5c-51c8-4ef6-8afa-99173e9ea898",
   "metadata": {},
   "outputs": [],
   "source": [
    "d6={\"new\":{\"list\":[1,2,3,56],\"set\":{1,2,4,5},\"tuple\":(1,2,3,4,True)}\n",
    "    ,\"list\":[1,2,3,56],\"set\":{1,2,4,5},\"tuple\":(1,2,3,4,True)}"
   ]
  },
  {
   "cell_type": "code",
   "execution_count": 29,
   "id": "1a2a379d-7617-4824-8dc6-a91a53834aa2",
   "metadata": {},
   "outputs": [
    {
     "data": {
      "text/plain": [
       "{'new': {'list': [1, 2, 3, 56],\n",
       "  'set': {1, 2, 4, 5},\n",
       "  'tuple': (1, 2, 3, 4, True)},\n",
       " 'list': [1, 2, 3, 56],\n",
       " 'set': {1, 2, 4, 5},\n",
       " 'tuple': (1, 2, 3, 4, True)}"
      ]
     },
     "execution_count": 29,
     "metadata": {},
     "output_type": "execute_result"
    }
   ],
   "source": [
    "d6 #nested dictionary"
   ]
  },
  {
   "cell_type": "code",
   "execution_count": 31,
   "id": "e6f656b6-c66f-4227-9ad1-52d77add040c",
   "metadata": {},
   "outputs": [
    {
     "data": {
      "text/plain": [
       "[1, 2, 3, 56]"
      ]
     },
     "execution_count": 31,
     "metadata": {},
     "output_type": "execute_result"
    }
   ],
   "source": [
    "d6[\"new\"][\"list\"][0:]"
   ]
  },
  {
   "cell_type": "code",
   "execution_count": 32,
   "id": "55bb1d11-cda6-4880-998e-5d13b95e1301",
   "metadata": {},
   "outputs": [
    {
     "data": {
      "text/plain": [
       "{'list': [1, 2, 3, 56], 'set': {1, 2, 4, 5}, 'tuple': (1, 2, 3, 4, True)}"
      ]
     },
     "execution_count": 32,
     "metadata": {},
     "output_type": "execute_result"
    }
   ],
   "source": [
    "d6[\"new\"]"
   ]
  },
  {
   "cell_type": "code",
   "execution_count": null,
   "id": "603b778d-a711-4922-a247-b65741e79206",
   "metadata": {},
   "outputs": [],
   "source": [
    "d6[\"mentor\"]=[\"yash\",\"vaibhav\",\"hemant\"]"
   ]
  },
  {
   "cell_type": "code",
   "execution_count": 35,
   "id": "0e90c3cd-629d-4708-847f-86e35e59dd35",
   "metadata": {},
   "outputs": [
    {
     "data": {
      "text/plain": [
       "{'new': {'list': [1, 2, 3, 56],\n",
       "  'set': {1, 2, 4, 5},\n",
       "  'tuple': (1, 2, 3, 4, True)},\n",
       " 'list': [1, 2, 3, 56],\n",
       " 'set': {1, 2, 4, 5},\n",
       " 'tuple': (1, 2, 3, 4, True),\n",
       " 'mentor': ['yash', 'vaibhav', 'hemant']}"
      ]
     },
     "execution_count": 35,
     "metadata": {},
     "output_type": "execute_result"
    }
   ],
   "source": [
    "d6"
   ]
  },
  {
   "cell_type": "code",
   "execution_count": 36,
   "id": "88d01f52-0812-451f-b640-cf3b720a43c6",
   "metadata": {},
   "outputs": [],
   "source": [
    "del d6[\"new\"]"
   ]
  },
  {
   "cell_type": "code",
   "execution_count": 37,
   "id": "112b7fcc-5b91-4f59-863c-d70b2e159963",
   "metadata": {},
   "outputs": [
    {
     "data": {
      "text/plain": [
       "{'list': [1, 2, 3, 56],\n",
       " 'set': {1, 2, 4, 5},\n",
       " 'tuple': (1, 2, 3, 4, True),\n",
       " 'mentor': ['yash', 'vaibhav', 'hemant']}"
      ]
     },
     "execution_count": 37,
     "metadata": {},
     "output_type": "execute_result"
    }
   ],
   "source": [
    "d6"
   ]
  },
  {
   "cell_type": "code",
   "execution_count": 40,
   "id": "b93604af-2e8a-42ad-8847-0290c4bc8917",
   "metadata": {},
   "outputs": [
    {
     "data": {
      "text/plain": [
       "dict_keys(['list', 'set', 'tuple', 'mentor'])"
      ]
     },
     "execution_count": 40,
     "metadata": {},
     "output_type": "execute_result"
    }
   ],
   "source": [
    "d6.keys()"
   ]
  },
  {
   "cell_type": "code",
   "execution_count": 41,
   "id": "b91762c4-5995-42cc-a451-6d49fd3fb2f2",
   "metadata": {},
   "outputs": [
    {
     "data": {
      "text/plain": [
       "dict_values([[1, 2, 3, 56], {1, 2, 4, 5}, (1, 2, 3, 4, True), ['yash', 'vaibhav', 'hemant']])"
      ]
     },
     "execution_count": 41,
     "metadata": {},
     "output_type": "execute_result"
    }
   ],
   "source": [
    "d6.values()"
   ]
  },
  {
   "cell_type": "code",
   "execution_count": 42,
   "id": "786a113f-0960-4e5b-b14e-a216d51446b0",
   "metadata": {},
   "outputs": [
    {
     "data": {
      "text/plain": [
       "[('list', [1, 2, 3, 56]),\n",
       " ('set', {1, 2, 4, 5}),\n",
       " ('tuple', (1, 2, 3, 4, True)),\n",
       " ('mentor', ['yash', 'vaibhav', 'hemant'])]"
      ]
     },
     "execution_count": 42,
     "metadata": {},
     "output_type": "execute_result"
    }
   ],
   "source": [
    "list(d6.items())"
   ]
  },
  {
   "cell_type": "code",
   "execution_count": 51,
   "id": "5ee6dcac-16a6-4bf8-b40a-29a019ac216e",
   "metadata": {},
   "outputs": [
    {
     "data": {
      "text/plain": [
       "['yash', 'vaibhav', 'hemant']"
      ]
     },
     "execution_count": 51,
     "metadata": {},
     "output_type": "execute_result"
    }
   ],
   "source": [
    "d6.pop(\"mentor\")"
   ]
  },
  {
   "cell_type": "code",
   "execution_count": 52,
   "id": "d958301a-dcd6-4c02-b5b1-582df0b645f1",
   "metadata": {},
   "outputs": [
    {
     "data": {
      "text/plain": [
       "{'list': [1, 2, 3, 56], 'set': {1, 2, 4, 5}, 'tuple': (1, 2, 3, 4, True)}"
      ]
     },
     "execution_count": 52,
     "metadata": {},
     "output_type": "execute_result"
    }
   ],
   "source": [
    "d6"
   ]
  },
  {
   "cell_type": "code",
   "execution_count": 53,
   "id": "a84e93e7-afd4-4f32-8acb-b33211dd916e",
   "metadata": {},
   "outputs": [
    {
     "ename": "TypeError",
     "evalue": "pop expected at least 1 argument, got 0",
     "output_type": "error",
     "traceback": [
      "\u001b[0;31m---------------------------------------------------------------------------\u001b[0m",
      "\u001b[0;31mTypeError\u001b[0m                                 Traceback (most recent call last)",
      "Cell \u001b[0;32mIn[53], line 1\u001b[0m\n\u001b[0;32m----> 1\u001b[0m \u001b[43md6\u001b[49m\u001b[38;5;241;43m.\u001b[39;49m\u001b[43mpop\u001b[49m\u001b[43m(\u001b[49m\u001b[43m)\u001b[49m\n",
      "\u001b[0;31mTypeError\u001b[0m: pop expected at least 1 argument, got 0"
     ]
    }
   ],
   "source": [
    "d6.pop() #throug a error"
   ]
  },
  {
   "cell_type": "code",
   "execution_count": null,
   "id": "22551b0f-aecd-42ee-91b8-b1ac1703fd99",
   "metadata": {},
   "outputs": [],
   "source": []
  }
 ],
 "metadata": {
  "kernelspec": {
   "display_name": "Python 3 (ipykernel)",
   "language": "python",
   "name": "python3"
  },
  "language_info": {
   "codemirror_mode": {
    "name": "ipython",
    "version": 3
   },
   "file_extension": ".py",
   "mimetype": "text/x-python",
   "name": "python",
   "nbconvert_exporter": "python",
   "pygments_lexer": "ipython3",
   "version": "3.10.8"
  }
 },
 "nbformat": 4,
 "nbformat_minor": 5
}
