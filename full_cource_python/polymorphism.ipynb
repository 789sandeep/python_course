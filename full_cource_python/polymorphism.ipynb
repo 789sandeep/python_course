{
 "cells": [
  {
   "cell_type": "code",
   "execution_count": 1,
   "id": "e1e9a029-24e5-46e3-9595-cac1ff34390e",
   "metadata": {},
   "outputs": [],
   "source": [
    "#What is Polymorphism: The word polymorphism means having many forms. In programming, polymorphism means the same function name (but different signatures) being used for different types. The key difference is the data types and number of arguments used in function"
   ]
  },
  {
   "cell_type": "code",
   "execution_count": 5,
   "id": "f52eab26-c89e-47ea-88f9-3178d63a3dcd",
   "metadata": {},
   "outputs": [
    {
     "name": "stdout",
     "output_type": "stream",
     "text": [
      "5\n"
     ]
    }
   ],
   "source": [
    "def poly(a,b):\n",
    "    print(a+b)\n",
    "a=poly(2,3)"
   ]
  },
  {
   "cell_type": "code",
   "execution_count": 6,
   "id": "dc4ad4a8-7782-4d32-af68-2539ae6bb3d1",
   "metadata": {},
   "outputs": [
    {
     "name": "stdout",
     "output_type": "stream",
     "text": [
      "23\n"
     ]
    }
   ],
   "source": [
    "a=poly(\"2\",\"3\")"
   ]
  },
  {
   "cell_type": "code",
   "execution_count": 7,
   "id": "b6a0d134-4919-43b3-8fb4-c76806910dcb",
   "metadata": {},
   "outputs": [
    {
     "name": "stdout",
     "output_type": "stream",
     "text": [
      "[1, 2, 3, 1, 2, 4]\n"
     ]
    }
   ],
   "source": [
    "a=poly([1,2,3],[1,2,4])"
   ]
  },
  {
   "cell_type": "code",
   "execution_count": 9,
   "id": "34cf9c00-3f7e-4713-9900-aca6f6ad27d9",
   "metadata": {},
   "outputs": [
    {
     "name": "stdout",
     "output_type": "stream",
     "text": [
      "developing country\n",
      "india capital of DELHI\n",
      "hindi is mostly wide spoken\n",
      "poor country\n",
      "usa capital of washington\n",
      "english is mostly wide spoken\n"
     ]
    }
   ],
   "source": [
    "class india:\n",
    "    def capital(self):\n",
    "        print(\"india capital of DELHI\")\n",
    "    def type(self):\n",
    "        print(\"developing country\")\n",
    "    def language(self):\n",
    "        print(\"hindi is mostly wide spoken\")\n",
    "class usa:\n",
    "    def capital(self):\n",
    "        print(\"usa capital of washington\")\n",
    "    def type(self):\n",
    "        print(\"poor country\")\n",
    "    def language(self):\n",
    "        print(\"english is mostly wide spoken\")\n",
    "a=india()\n",
    "b=usa()\n",
    "for i in (a,b):\n",
    "    i.type()\n",
    "    i.capital()\n",
    "    i.language()"
   ]
  },
  {
   "cell_type": "code",
   "execution_count": null,
   "id": "46f0a9e0-a1e1-473a-b4a9-3c42885bafd1",
   "metadata": {},
   "outputs": [],
   "source": []
  }
 ],
 "metadata": {
  "kernelspec": {
   "display_name": "Python 3 (ipykernel)",
   "language": "python",
   "name": "python3"
  },
  "language_info": {
   "codemirror_mode": {
    "name": "ipython",
    "version": 3
   },
   "file_extension": ".py",
   "mimetype": "text/x-python",
   "name": "python",
   "nbconvert_exporter": "python",
   "pygments_lexer": "ipython3",
   "version": "3.10.8"
  }
 },
 "nbformat": 4,
 "nbformat_minor": 5
}
