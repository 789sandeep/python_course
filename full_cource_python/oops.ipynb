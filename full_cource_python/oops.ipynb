{
 "cells": [
  {
   "cell_type": "code",
   "execution_count": 1,
   "id": "3ae47d8c-7568-454d-bf1e-6007de75bb71",
   "metadata": {},
   "outputs": [],
   "source": [
    "a=1"
   ]
  },
  {
   "cell_type": "code",
   "execution_count": 6,
   "id": "bf6529c9-fb71-4f7f-a838-fd0f4ee16fa2",
   "metadata": {},
   "outputs": [
    {
     "name": "stdout",
     "output_type": "stream",
     "text": [
      "<class 'str'>\n"
     ]
    }
   ],
   "source": [
    "print(type(a))"
   ]
  },
  {
   "cell_type": "code",
   "execution_count": 7,
   "id": "68871207-7b27-44e9-a2d8-b359917f1506",
   "metadata": {},
   "outputs": [],
   "source": [
    "a=\"sfdf\""
   ]
  },
  {
   "cell_type": "code",
   "execution_count": 8,
   "id": "b695f9f8-d53c-4f65-9561-2e773e433a4c",
   "metadata": {},
   "outputs": [
    {
     "name": "stdout",
     "output_type": "stream",
     "text": [
      "<class 'str'>\n"
     ]
    }
   ],
   "source": [
    "print(type(a))"
   ]
  },
  {
   "cell_type": "code",
   "execution_count": 10,
   "id": "16ef69cf-5441-41e2-89e6-22c734374ff0",
   "metadata": {},
   "outputs": [],
   "source": [
    "class test:\n",
    "    pass"
   ]
  },
  {
   "cell_type": "code",
   "execution_count": 11,
   "id": "ba44c4b3-cdea-459f-ac20-b726ffa3c17e",
   "metadata": {},
   "outputs": [
    {
     "data": {
      "text/plain": [
       "__main__.test"
      ]
     },
     "execution_count": 11,
     "metadata": {},
     "output_type": "execute_result"
    }
   ],
   "source": [
    "a=test()\n",
    "type(a)"
   ]
  },
  {
   "cell_type": "code",
   "execution_count": 12,
   "id": "c48844d7-30a5-45f7-8f6a-9d96c0b82de9",
   "metadata": {},
   "outputs": [
    {
     "name": "stdout",
     "output_type": "stream",
     "text": [
      "<class '__main__.test'>\n"
     ]
    }
   ],
   "source": [
    "print(type(a))"
   ]
  },
  {
   "cell_type": "code",
   "execution_count": 21,
   "id": "d7080ce5-fbb2-4eee-a2b1-1f0a094bd0b8",
   "metadata": {},
   "outputs": [],
   "source": [
    "class pwskills:\n",
    "    def welcom(self):\n",
    "        print(\"hello this is my first class\")"
   ]
  },
  {
   "cell_type": "code",
   "execution_count": 22,
   "id": "517f52df-717e-4fce-9efc-490b3434e844",
   "metadata": {},
   "outputs": [],
   "source": [
    "golu=pwskills()"
   ]
  },
  {
   "cell_type": "code",
   "execution_count": 23,
   "id": "a9560962-b4f7-4882-b9fb-bab2ee7efa55",
   "metadata": {},
   "outputs": [
    {
     "name": "stdout",
     "output_type": "stream",
     "text": [
      "<class '__main__.pwskills'>\n"
     ]
    }
   ],
   "source": [
    "print(type(golu))"
   ]
  },
  {
   "cell_type": "code",
   "execution_count": 24,
   "id": "dee5c850-07b3-4f07-82c2-ea51dd845a13",
   "metadata": {},
   "outputs": [
    {
     "name": "stdout",
     "output_type": "stream",
     "text": [
      "hello this is my first class\n"
     ]
    }
   ],
   "source": [
    "golu.welcom()"
   ]
  },
  {
   "cell_type": "code",
   "execution_count": 27,
   "id": "5ea02c5f-be62-4778-b6a2-a9acf3e31681",
   "metadata": {},
   "outputs": [],
   "source": [
    "gorav=pwskills()"
   ]
  },
  {
   "cell_type": "code",
   "execution_count": 28,
   "id": "877d5d17-a6d6-4e5c-975e-5e4996695830",
   "metadata": {},
   "outputs": [
    {
     "name": "stdout",
     "output_type": "stream",
     "text": [
      "hello this is my first class\n"
     ]
    }
   ],
   "source": [
    "gorav.welcom()"
   ]
  },
  {
   "cell_type": "code",
   "execution_count": 14,
   "id": "bdc6fb49-019a-40f7-b458-86ba5ce7e7ef",
   "metadata": {},
   "outputs": [],
   "source": [
    "class details:\n",
    "    def  __init__(self,name,phone_number,student_id):\n",
    "        self.name=name\n",
    "        self.phone_number=phone_number\n",
    "        self.student_id=student_id\n",
    "        \n",
    "    def student_details(self):\n",
    "        return self.name,self.phone_number,self.student_id\n",
    "    "
   ]
  },
  {
   "cell_type": "code",
   "execution_count": 16,
   "id": "8566591e-0b61-49c6-b1be-3a742afc5d1e",
   "metadata": {},
   "outputs": [],
   "source": [
    "golu = details(\"fggd\",78675,89)"
   ]
  },
  {
   "cell_type": "code",
   "execution_count": 17,
   "id": "57d904db-c596-41aa-b427-eb4cfd0bf910",
   "metadata": {},
   "outputs": [
    {
     "data": {
      "text/plain": [
       "('fggd', 78675, 89)"
      ]
     },
     "execution_count": 17,
     "metadata": {},
     "output_type": "execute_result"
    }
   ],
   "source": [
    "golu.student_details()"
   ]
  },
  {
   "cell_type": "code",
   "execution_count": 19,
   "id": "d43a0ce6-a0a5-490c-b6b2-ed57c880ecff",
   "metadata": {},
   "outputs": [
    {
     "data": {
      "text/plain": [
       "'fggd'"
      ]
     },
     "execution_count": 19,
     "metadata": {},
     "output_type": "execute_result"
    }
   ],
   "source": [
    "golu.name"
   ]
  },
  {
   "cell_type": "code",
   "execution_count": 20,
   "id": "ccf29e0d-77f2-4761-a24f-74c3c017f5f6",
   "metadata": {},
   "outputs": [
    {
     "data": {
      "text/plain": [
       "89"
      ]
     },
     "execution_count": 20,
     "metadata": {},
     "output_type": "execute_result"
    }
   ],
   "source": [
    "golu.student_id"
   ]
  },
  {
   "cell_type": "code",
   "execution_count": 38,
   "id": "cb84101f-576b-4f9a-afc4-8a62d41dba81",
   "metadata": {},
   "outputs": [],
   "source": [
    "class details1:\n",
    "    def  __init__(self,name,phone_number1,student_id):\n",
    "        self.name=name\n",
    "        self.phone_number1=phone_number1\n",
    "        self.student_id=student_id\n",
    "        \n",
    "    def student_details(self):\n",
    "        return self.name,self.phone_number1,self.student_id\n",
    "    "
   ]
  },
  {
   "cell_type": "code",
   "execution_count": 42,
   "id": "c1e41283-526b-4448-ad17-c5b60c571d06",
   "metadata": {},
   "outputs": [],
   "source": [
    "rohan = details1(\"fggd\",344556465,89)"
   ]
  },
  {
   "cell_type": "code",
   "execution_count": 43,
   "id": "af03bfa7-7902-4499-b500-0c0fcafd49df",
   "metadata": {},
   "outputs": [
    {
     "data": {
      "text/plain": [
       "('fggd', 344556465, 89)"
      ]
     },
     "execution_count": 43,
     "metadata": {},
     "output_type": "execute_result"
    }
   ],
   "source": [
    "rohan.student_details()"
   ]
  },
  {
   "cell_type": "code",
   "execution_count": 45,
   "id": "daa87881-92f7-4470-b623-21178565c8d6",
   "metadata": {},
   "outputs": [
    {
     "data": {
      "text/plain": [
       "344556465"
      ]
     },
     "execution_count": 45,
     "metadata": {},
     "output_type": "execute_result"
    }
   ],
   "source": [
    "rohan.phone_number1"
   ]
  },
  {
   "cell_type": "code",
   "execution_count": null,
   "id": "434f8398-a078-43d9-8282-0d097a17fc88",
   "metadata": {},
   "outputs": [],
   "source": []
  }
 ],
 "metadata": {
  "kernelspec": {
   "display_name": "Python 3 (ipykernel)",
   "language": "python",
   "name": "python3"
  },
  "language_info": {
   "codemirror_mode": {
    "name": "ipython",
    "version": 3
   },
   "file_extension": ".py",
   "mimetype": "text/x-python",
   "name": "python",
   "nbconvert_exporter": "python",
   "pygments_lexer": "ipython3",
   "version": "3.10.8"
  }
 },
 "nbformat": 4,
 "nbformat_minor": 5
}
