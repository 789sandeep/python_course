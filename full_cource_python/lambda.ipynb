{
 "cells": [
  {
   "cell_type": "code",
   "execution_count": 2,
   "id": "cb0d92cc-46ce-4006-be75-b722706068c2",
   "metadata": {},
   "outputs": [
    {
     "data": {
      "text/plain": [
       "8"
      ]
     },
     "execution_count": 2,
     "metadata": {},
     "output_type": "execute_result"
    }
   ],
   "source": [
    "def test(a,b):\n",
    "    return a**b\n",
    "test(2,3)"
   ]
  },
  {
   "cell_type": "code",
   "execution_count": 4,
   "id": "7b6caf82-8297-4d02-9884-078c6775f24f",
   "metadata": {},
   "outputs": [],
   "source": [
    "a=lambda n,p: n**p"
   ]
  },
  {
   "cell_type": "code",
   "execution_count": 5,
   "id": "83ce94c6-c36f-44b7-9acf-c6d1eba97e7a",
   "metadata": {},
   "outputs": [
    {
     "data": {
      "text/plain": [
       "8"
      ]
     },
     "execution_count": 5,
     "metadata": {},
     "output_type": "execute_result"
    }
   ],
   "source": [
    "a(2,3)"
   ]
  },
  {
   "cell_type": "code",
   "execution_count": 7,
   "id": "41ef0018-3597-48c4-b0af-f758b05103d2",
   "metadata": {},
   "outputs": [],
   "source": [
    "add=lambda a,b:a+b"
   ]
  },
  {
   "cell_type": "code",
   "execution_count": 8,
   "id": "37f387f7-7651-433e-aa90-35dcc67385fa",
   "metadata": {},
   "outputs": [
    {
     "data": {
      "text/plain": [
       "544"
      ]
     },
     "execution_count": 8,
     "metadata": {},
     "output_type": "execute_result"
    }
   ],
   "source": [
    "add(2,542)"
   ]
  },
  {
   "cell_type": "code",
   "execution_count": 9,
   "id": "ade7a149-8384-43d0-81e6-d19e3aed1aef",
   "metadata": {},
   "outputs": [],
   "source": [
    "add=lambda a,b,c:a+b-c"
   ]
  },
  {
   "cell_type": "code",
   "execution_count": 10,
   "id": "9b572098-a292-4df1-a8e4-4632bd035313",
   "metadata": {},
   "outputs": [
    {
     "data": {
      "text/plain": [
       "1"
      ]
     },
     "execution_count": 10,
     "metadata": {},
     "output_type": "execute_result"
    }
   ],
   "source": [
    "add(2,4,5)"
   ]
  },
  {
   "cell_type": "code",
   "execution_count": 11,
   "id": "49d068f1-3a65-4138-ba2f-949643802112",
   "metadata": {},
   "outputs": [],
   "source": [
    "c_to_f=lambda c:(9/5)*c+32"
   ]
  },
  {
   "cell_type": "code",
   "execution_count": 12,
   "id": "19d834d3-00d6-4080-864f-e4c68e5227a6",
   "metadata": {},
   "outputs": [
    {
     "data": {
      "text/plain": [
       "86.0"
      ]
     },
     "execution_count": 12,
     "metadata": {},
     "output_type": "execute_result"
    }
   ],
   "source": [
    "c_to_f(30)"
   ]
  },
  {
   "cell_type": "code",
   "execution_count": 13,
   "id": "fbc0bad1-c3eb-4c7a-8bf8-ba82d06c64ce",
   "metadata": {},
   "outputs": [],
   "source": [
    "max_value=lambda a,b : a if a>b else b"
   ]
  },
  {
   "cell_type": "code",
   "execution_count": 14,
   "id": "cef33e00-22a1-408a-939e-a5c090c10c7c",
   "metadata": {},
   "outputs": [
    {
     "data": {
      "text/plain": [
       "34"
      ]
     },
     "execution_count": 14,
     "metadata": {},
     "output_type": "execute_result"
    }
   ],
   "source": [
    "max_value(12,34)"
   ]
  },
  {
   "cell_type": "code",
   "execution_count": 15,
   "id": "36f48b53-bdfa-419c-a284-c9d70ac68537",
   "metadata": {},
   "outputs": [],
   "source": [
    "a=\"hello\""
   ]
  },
  {
   "cell_type": "code",
   "execution_count": 16,
   "id": "e39984f3-c63c-48b8-a76e-2c4c44afb296",
   "metadata": {},
   "outputs": [],
   "source": [
    "length=lambda a:len(a)"
   ]
  },
  {
   "cell_type": "code",
   "execution_count": null,
   "id": "4e0cc228-077d-4042-a9c2-a9ae7c5fa152",
   "metadata": {},
   "outputs": [],
   "source": [
    "length(\"hel\")"
   ]
  }
 ],
 "metadata": {
  "kernelspec": {
   "display_name": "Python 3 (ipykernel)",
   "language": "python",
   "name": "python3"
  },
  "language_info": {
   "codemirror_mode": {
    "name": "ipython",
    "version": 3
   },
   "file_extension": ".py",
   "mimetype": "text/x-python",
   "name": "python",
   "nbconvert_exporter": "python",
   "pygments_lexer": "ipython3",
   "version": "3.10.8"
  }
 },
 "nbformat": 4,
 "nbformat_minor": 5
}
