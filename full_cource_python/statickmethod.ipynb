{
 "cells": [
  {
   "cell_type": "code",
   "execution_count": 6,
   "id": "f95b3db6-6a51-4b7a-b162-09a308e8cd3c",
   "metadata": {},
   "outputs": [
    {
     "data": {
      "text/plain": [
       "('python', ['dgjfd', 'dfg'])"
      ]
     },
     "execution_count": 6,
     "metadata": {},
     "output_type": "execute_result"
    }
   ],
   "source": [
    "class student:\n",
    "    def student_schoole_details(self , name, rolle_number):\n",
    "        self.name=name\n",
    "        self.rolle_number=rolle_number\n",
    "    @staticmethod\n",
    "    def course(course_name,student_name):\n",
    "        return course_name,student_name\n",
    "student.course(\"python\",['dgjfd','dfg'])"
   ]
  },
  {
   "cell_type": "code",
   "execution_count": 55,
   "id": "99302c1e-9174-4d4e-ad5d-ef0fb4d6de3b",
   "metadata": {},
   "outputs": [
    {
     "name": "stdout",
     "output_type": "stream",
     "text": [
      "c++ ['sfdsf', 'sdfdsf']\n",
      "java ['sfdsf', 'sdfdsf']\n",
      "python ['dgjfd', 'dfg']\n"
     ]
    }
   ],
   "source": [
    "class student1:\n",
    "    def student_schoole_details(self,name,rolle_number):\n",
    "        self.name=name\n",
    "        self.rolle_number=rolle_number       \n",
    "    @staticmethod\n",
    "    def course1(course_name,student_name):\n",
    "        print(course_name,student_name)\n",
    "    @staticmethod\n",
    "    def course2(course_name,student_name):\n",
    "        student1.course1(\"c++\",[\"sfdsf\",\"sdfdsf\"])\n",
    "        print(course_name,student_name)\n",
    "    @classmethod\n",
    "    def course3(cls,course_name,student_name):\n",
    "        student1.course2(\"java\",[\"sfdsf\",\"sdfdsf\"])\n",
    "        print(course_name,student_name)\n",
    "    def get_roll_name(self):\n",
    "        return self.name,self.rolle_number\n",
    "        \n",
    "student1.course3(\"python\",['dgjfd','dfg'])"
   ]
  },
  {
   "cell_type": "code",
   "execution_count": 58,
   "id": "de1d69da-552e-4b06-bf43-553d95125f7c",
   "metadata": {},
   "outputs": [],
   "source": [
    "a=student1()"
   ]
  },
  {
   "cell_type": "code",
   "execution_count": 61,
   "id": "d3ef2933-7ed5-42c8-87d8-637a1ccc76ce",
   "metadata": {},
   "outputs": [],
   "source": [
    "a.student_schoole_details(\"python\",['dgjfd','dfg'])"
   ]
  },
  {
   "cell_type": "code",
   "execution_count": 62,
   "id": "6a8fea02-f18a-4d50-882c-1ad00d48f9c9",
   "metadata": {},
   "outputs": [
    {
     "data": {
      "text/plain": [
       "'python'"
      ]
     },
     "execution_count": 62,
     "metadata": {},
     "output_type": "execute_result"
    }
   ],
   "source": [
    "a.name"
   ]
  },
  {
   "cell_type": "code",
   "execution_count": 87,
   "id": "e9f1cbcc-8635-44a6-be08-6848c3a044e6",
   "metadata": {},
   "outputs": [],
   "source": [
    "class student3:\n",
    "    def student_schoole_details(self , name, rolle_number):\n",
    "        self.name=name\n",
    "        self.rolle_number=rolle_number\n",
    "    @staticmethod\n",
    "    def course(course_name,student_name):\n",
    "        return course_name,student_name\n",
    "def externalfun():\n",
    "    print(34+34)\n",
    "student3.externalfun=staticmethod(externalfun)"
   ]
  },
  {
   "cell_type": "code",
   "execution_count": 88,
   "id": "45640c84-c8a8-4b58-82ae-bacd6b001f6c",
   "metadata": {},
   "outputs": [
    {
     "name": "stdout",
     "output_type": "stream",
     "text": [
      "68\n"
     ]
    }
   ],
   "source": [
    "student3.externalfun()"
   ]
  },
  {
   "cell_type": "code",
   "execution_count": 85,
   "id": "be47b55e-7989-41bf-96e7-947a1de04b56",
   "metadata": {},
   "outputs": [],
   "source": [
    "#del student3.externalfun"
   ]
  },
  {
   "cell_type": "code",
   "execution_count": 89,
   "id": "87c3e761-a0f5-4f94-9ffe-d7d38a61469f",
   "metadata": {},
   "outputs": [
    {
     "name": "stdout",
     "output_type": "stream",
     "text": [
      "68\n"
     ]
    }
   ],
   "source": [
    "student3.externalfun()"
   ]
  },
  {
   "cell_type": "code",
   "execution_count": null,
   "id": "a5c305a5-feba-48ee-8576-ac61e38e306b",
   "metadata": {},
   "outputs": [],
   "source": []
  }
 ],
 "metadata": {
  "kernelspec": {
   "display_name": "Python 3 (ipykernel)",
   "language": "python",
   "name": "python3"
  },
  "language_info": {
   "codemirror_mode": {
    "name": "ipython",
    "version": 3
   },
   "file_extension": ".py",
   "mimetype": "text/x-python",
   "name": "python",
   "nbconvert_exporter": "python",
   "pygments_lexer": "ipython3",
   "version": "3.10.8"
  }
 },
 "nbformat": 4,
 "nbformat_minor": 5
}
