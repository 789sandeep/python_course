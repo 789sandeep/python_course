{
 "cells": [
  {
   "cell_type": "code",
   "execution_count": 17,
   "id": "42a887ad-e4cd-4868-b44d-8fcee85f2c66",
   "metadata": {},
   "outputs": [],
   "source": [
    "import logging\n",
    "import threading\n",
    "import time\n",
    "logging.basicConfig(filename=\"thread1.log\",level=logging.DEBUG, format=\"%(asctime)s %(name)s %(levelname)s %(message)s\")\n",
    "logging.info(\"hello\")\n",
    "\n",
    "try:\n",
    "     def table(user):\n",
    "        logging.info(\"this function work as print table\")\n",
    "        for i in range(1,11):\n",
    "            print(user*i)\n",
    "            time.sleep(1)\n",
    "except NameError as e:\n",
    "    print(\"through a syntaxerror\",e)\n",
    "    "
   ]
  },
  {
   "cell_type": "code",
   "execution_count": 19,
   "id": "879ff2e9-e075-45d8-b1c7-ac38352df01c",
   "metadata": {},
   "outputs": [
    {
     "name": "stdout",
     "output_type": "stream",
     "text": [
      "7\n",
      "14\n",
      "21\n",
      "28\n",
      "35\n",
      "42\n",
      "49\n",
      "56\n",
      "63\n",
      "70\n"
     ]
    }
   ],
   "source": [
    "table(7)"
   ]
  },
  {
   "cell_type": "code",
   "execution_count": 20,
   "id": "3dd16ea2-ee8e-45e3-8b62-964e9f47ef07",
   "metadata": {},
   "outputs": [],
   "source": [
    "thrd=[threading.Thread(target=table,args=(2,))]\n",
    "logging.info(\"thrd is print one by one multiplicatton of table 2\")"
   ]
  },
  {
   "cell_type": "code",
   "execution_count": 21,
   "id": "e66a5b2d-d110-4ecf-a43e-bd99fba22434",
   "metadata": {},
   "outputs": [
    {
     "name": "stdout",
     "output_type": "stream",
     "text": [
      "2\n",
      "4\n",
      "6\n",
      "8\n",
      "10\n",
      "12\n",
      "14\n",
      "16\n",
      "18\n",
      "20\n"
     ]
    }
   ],
   "source": [
    "for i in thrd:\n",
    "    i.start()"
   ]
  },
  {
   "cell_type": "code",
   "execution_count": 28,
   "id": "16e1027c-9a31-46a4-bfe0-1f23b4794a19",
   "metadata": {},
   "outputs": [],
   "source": [
    "import logging\n",
    "import threading\n",
    "import urllib.request\n",
    "import time\n",
    "logging.basicConfig(filename=\"thread1.log\",level=logging.DEBUG, format=\"%(asctime)s %(name)s %(levelname)s %(message)s\")\n",
    "try:\n",
    "    logging.info(\"try is the part of the error handling\")\n",
    "    def file_download(url,filename):\n",
    "        logging.info(\"file_download is the user define function name\")\n",
    "        urllib.request.urlretrieve(url,filename)\n",
    "        logging.info(\"urllib.request_urlretrieve it put data into the file \")\n",
    "except SyntaxError as e:\n",
    "    logging.info(\"this is Syntaxerror\")\n",
    "    print(\"hello\",e)\n",
    "url_list=[]\n",
    "file_name=['data1.txt','data2.txt','data3.txt']\n",
    "data=[threading.Thread(target=file_download,args=(url_list[i],file_name[i])) for i in range(len(url_list))]\n",
    "for i in data:\n",
    "    logging.info(\"this is for loop\")\n",
    "    i.start()\n",
    "logging.info(\"end of this program\")"
   ]
  },
  {
   "cell_type": "code",
   "execution_count": null,
   "id": "261c4c08-79b4-4f19-bfe6-3276bf0b1334",
   "metadata": {},
   "outputs": [],
   "source": []
  },
  {
   "cell_type": "code",
   "execution_count": null,
   "id": "4a64bd1f-3e4c-4b13-9fb1-de25d2936da8",
   "metadata": {},
   "outputs": [],
   "source": []
  }
 ],
 "metadata": {
  "kernelspec": {
   "display_name": "Python 3 (ipykernel)",
   "language": "python",
   "name": "python3"
  },
  "language_info": {
   "codemirror_mode": {
    "name": "ipython",
    "version": 3
   },
   "file_extension": ".py",
   "mimetype": "text/x-python",
   "name": "python",
   "nbconvert_exporter": "python",
   "pygments_lexer": "ipython3",
   "version": "3.10.8"
  }
 },
 "nbformat": 4,
 "nbformat_minor": 5
}
