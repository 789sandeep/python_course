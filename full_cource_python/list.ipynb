{
 "cells": [
  {
   "cell_type": "code",
   "execution_count": 1,
   "id": "67a45e03-2f09-4541-b6ce-7a6bd7726d40",
   "metadata": {},
   "outputs": [],
   "source": [
    "l1=[1,2,4,5,\"sandeep\",True,3.4]"
   ]
  },
  {
   "cell_type": "code",
   "execution_count": 2,
   "id": "4e8c6e54-92ee-46fc-b6eb-f4979e6760d7",
   "metadata": {},
   "outputs": [
    {
     "data": {
      "text/plain": [
       "[1, 2, 4, 5, 'sandeep', True, 3.4]"
      ]
     },
     "execution_count": 2,
     "metadata": {},
     "output_type": "execute_result"
    }
   ],
   "source": [
    "l1"
   ]
  },
  {
   "cell_type": "code",
   "execution_count": 3,
   "id": "f59ef357-4db5-45a1-95ae-baa147b70e67",
   "metadata": {},
   "outputs": [
    {
     "data": {
      "text/plain": [
       "[3.4, True, 'sandeep', 5, 4, 2, 1]"
      ]
     },
     "execution_count": 3,
     "metadata": {},
     "output_type": "execute_result"
    }
   ],
   "source": [
    "l1[::-1]"
   ]
  },
  {
   "cell_type": "code",
   "execution_count": 4,
   "id": "ca33028d-7894-4013-af2b-e1426728035e",
   "metadata": {},
   "outputs": [
    {
     "data": {
      "text/plain": [
       "[1, 4, 'sandeep', 3.4]"
      ]
     },
     "execution_count": 4,
     "metadata": {},
     "output_type": "execute_result"
    }
   ],
   "source": [
    "l1[0::2]"
   ]
  },
  {
   "cell_type": "code",
   "execution_count": 5,
   "id": "cd4db77b-37e2-4f8e-a843-4a3c90f392ce",
   "metadata": {},
   "outputs": [],
   "source": [
    "l1.reverse()"
   ]
  },
  {
   "cell_type": "code",
   "execution_count": 6,
   "id": "b07b5e77-bfd9-405a-a80c-a74b0830bb6e",
   "metadata": {},
   "outputs": [
    {
     "data": {
      "text/plain": [
       "[3.4, True, 'sandeep', 5, 4, 2, 1]"
      ]
     },
     "execution_count": 6,
     "metadata": {},
     "output_type": "execute_result"
    }
   ],
   "source": [
    "l1"
   ]
  },
  {
   "cell_type": "code",
   "execution_count": 7,
   "id": "69f649c4-e0d6-4459-8317-85e6530b3935",
   "metadata": {},
   "outputs": [],
   "source": [
    "l1.append(23)"
   ]
  },
  {
   "cell_type": "code",
   "execution_count": 8,
   "id": "40b3db7f-1e4f-47ab-bd29-38b892dcc645",
   "metadata": {},
   "outputs": [
    {
     "data": {
      "text/plain": [
       "[3.4, True, 'sandeep', 5, 4, 2, 1, 23]"
      ]
     },
     "execution_count": 8,
     "metadata": {},
     "output_type": "execute_result"
    }
   ],
   "source": [
    "l1"
   ]
  },
  {
   "cell_type": "code",
   "execution_count": 9,
   "id": "109fe059-112b-4aa6-ac9c-4e037501256c",
   "metadata": {},
   "outputs": [],
   "source": [
    "l1.append(\"hello\")"
   ]
  },
  {
   "cell_type": "code",
   "execution_count": 24,
   "id": "c387a976-cb38-427f-a443-08d89e11ca4d",
   "metadata": {},
   "outputs": [],
   "source": [
    "l1=[1,2,4,5,\"sandeep\",True,3.4]"
   ]
  },
  {
   "cell_type": "code",
   "execution_count": 25,
   "id": "737fd2ad-728b-4445-af8a-0817f31a4f98",
   "metadata": {},
   "outputs": [
    {
     "data": {
      "text/plain": [
       "[1, 2, 4, 5, 'sandeep', True, 3.4]"
      ]
     },
     "execution_count": 25,
     "metadata": {},
     "output_type": "execute_result"
    }
   ],
   "source": [
    "l1"
   ]
  },
  {
   "cell_type": "code",
   "execution_count": 27,
   "id": "dd8064be-6d42-4c5d-aca1-00e7b27b0848",
   "metadata": {},
   "outputs": [
    {
     "data": {
      "text/plain": [
       "3.4"
      ]
     },
     "execution_count": 27,
     "metadata": {},
     "output_type": "execute_result"
    }
   ],
   "source": [
    "l1.pop()"
   ]
  },
  {
   "cell_type": "code",
   "execution_count": 37,
   "id": "963da498-1d65-4632-8e4f-8f34518a5e21",
   "metadata": {},
   "outputs": [],
   "source": [
    "l1.append(5)"
   ]
  },
  {
   "cell_type": "code",
   "execution_count": 38,
   "id": "fc429b3e-bda8-49f4-80bd-92ba01d3b10e",
   "metadata": {},
   "outputs": [
    {
     "data": {
      "text/plain": [
       "[1, 2, 4, 'sandeep', True, 5]"
      ]
     },
     "execution_count": 38,
     "metadata": {},
     "output_type": "execute_result"
    }
   ],
   "source": [
    "l1"
   ]
  },
  {
   "cell_type": "code",
   "execution_count": 39,
   "id": "a9cc88ba-3421-4113-9d97-78d46e24d3b3",
   "metadata": {},
   "outputs": [],
   "source": [
    "l1.remove(5)"
   ]
  },
  {
   "cell_type": "code",
   "execution_count": 40,
   "id": "c3aa3b7d-24a0-4922-afdf-840fd3456f5e",
   "metadata": {},
   "outputs": [
    {
     "data": {
      "text/plain": [
       "[1, 2, 4, 'sandeep', True]"
      ]
     },
     "execution_count": 40,
     "metadata": {},
     "output_type": "execute_result"
    }
   ],
   "source": [
    "l1"
   ]
  },
  {
   "cell_type": "code",
   "execution_count": 46,
   "id": "b2e9b5b4-58a9-42c3-8b08-aad728adeced",
   "metadata": {},
   "outputs": [],
   "source": [
    "l2=[688,964,255,0]"
   ]
  },
  {
   "cell_type": "code",
   "execution_count": 47,
   "id": "beb14569-93d0-4282-8aef-f0d961e99d51",
   "metadata": {},
   "outputs": [
    {
     "data": {
      "text/plain": [
       "[688, 964, 255, 0]"
      ]
     },
     "execution_count": 47,
     "metadata": {},
     "output_type": "execute_result"
    }
   ],
   "source": [
    "l2"
   ]
  },
  {
   "cell_type": "code",
   "execution_count": 49,
   "id": "20c3c4da-c3ff-4371-ac82-950218142e2f",
   "metadata": {},
   "outputs": [],
   "source": [
    "l1.insert(2,l2)"
   ]
  },
  {
   "cell_type": "code",
   "execution_count": 50,
   "id": "c14dfb83-e1f0-4f91-9ad5-a99f61bfadff",
   "metadata": {},
   "outputs": [
    {
     "data": {
      "text/plain": [
       "[688, 964, [688, 964, 255, 0], 255, 0]"
      ]
     },
     "execution_count": 50,
     "metadata": {},
     "output_type": "execute_result"
    }
   ],
   "source": [
    "l1"
   ]
  },
  {
   "cell_type": "code",
   "execution_count": 51,
   "id": "511273f1-e637-4efa-a2ba-de5049c17a81",
   "metadata": {},
   "outputs": [],
   "source": [
    "l1.insert(0,24287382)"
   ]
  },
  {
   "cell_type": "code",
   "execution_count": 52,
   "id": "b0f5c6a6-db4e-4a35-b6e5-ac2e2343ee36",
   "metadata": {},
   "outputs": [
    {
     "data": {
      "text/plain": [
       "[24287382, 688, 964, [688, 964, 255, 0], 255, 0]"
      ]
     },
     "execution_count": 52,
     "metadata": {},
     "output_type": "execute_result"
    }
   ],
   "source": [
    "l1"
   ]
  },
  {
   "cell_type": "code",
   "execution_count": 53,
   "id": "32a2e741-7cb1-43f5-8a49-a2175b12febf",
   "metadata": {},
   "outputs": [],
   "source": [
    "l1.append(l2)"
   ]
  },
  {
   "cell_type": "code",
   "execution_count": 54,
   "id": "e2bd83b5-522f-4291-9863-329a81d18a1a",
   "metadata": {},
   "outputs": [
    {
     "data": {
      "text/plain": [
       "[24287382, 688, 964, [688, 964, 255, 0], 255, 0, [688, 964, 255, 0]]"
      ]
     },
     "execution_count": 54,
     "metadata": {},
     "output_type": "execute_result"
    }
   ],
   "source": [
    "l1"
   ]
  },
  {
   "cell_type": "code",
   "execution_count": 58,
   "id": "123f9b80-76f8-4cc0-b74f-9b7ab5f79473",
   "metadata": {},
   "outputs": [],
   "source": [
    "l1[3].insert(4,24)"
   ]
  },
  {
   "cell_type": "code",
   "execution_count": 59,
   "id": "780fff7b-c788-407a-8dae-8f59be53b4af",
   "metadata": {},
   "outputs": [
    {
     "data": {
      "text/plain": [
       "[24287382,\n",
       " 688,\n",
       " 964,\n",
       " [688, 964, 255, 0, 24, 24],\n",
       " 255,\n",
       " 0,\n",
       " [688, 964, 255, 0, 24, 24]]"
      ]
     },
     "execution_count": 59,
     "metadata": {},
     "output_type": "execute_result"
    }
   ],
   "source": [
    "l1"
   ]
  },
  {
   "cell_type": "code",
   "execution_count": 60,
   "id": "e4d06246-3ca4-444a-9c4d-1b29d877e858",
   "metadata": {},
   "outputs": [
    {
     "data": {
      "text/plain": [
       "[688, 964, 255, 0, 24, 24]"
      ]
     },
     "execution_count": 60,
     "metadata": {},
     "output_type": "execute_result"
    }
   ],
   "source": [
    "l1.pop()"
   ]
  },
  {
   "cell_type": "code",
   "execution_count": 61,
   "id": "f3770fc0-7c16-478d-a009-b4d84c1708c7",
   "metadata": {},
   "outputs": [
    {
     "data": {
      "text/plain": [
       "[24287382, 688, 964, [688, 964, 255, 0, 24, 24], 255, 0]"
      ]
     },
     "execution_count": 61,
     "metadata": {},
     "output_type": "execute_result"
    }
   ],
   "source": [
    "l1"
   ]
  },
  {
   "cell_type": "code",
   "execution_count": 62,
   "id": "98ff1d1c-b559-4c78-b25d-a68bfd6f69a9",
   "metadata": {},
   "outputs": [
    {
     "data": {
      "text/plain": [
       "24"
      ]
     },
     "execution_count": 62,
     "metadata": {},
     "output_type": "execute_result"
    }
   ],
   "source": [
    "l1[3].pop()"
   ]
  },
  {
   "cell_type": "code",
   "execution_count": 63,
   "id": "697c3438-bdda-466f-a81d-42f85cce0fa7",
   "metadata": {},
   "outputs": [
    {
     "data": {
      "text/plain": [
       "11"
      ]
     },
     "execution_count": 63,
     "metadata": {},
     "output_type": "execute_result"
    }
   ],
   "source": [
    "11"
   ]
  },
  {
   "cell_type": "code",
   "execution_count": 64,
   "id": "534a9ed1-0a18-4708-9e6e-88563227b9b6",
   "metadata": {},
   "outputs": [
    {
     "data": {
      "text/plain": [
       "[24287382, 688, 964, [688, 964, 255, 0, 24], 255, 0]"
      ]
     },
     "execution_count": 64,
     "metadata": {},
     "output_type": "execute_result"
    }
   ],
   "source": [
    "l1"
   ]
  },
  {
   "cell_type": "code",
   "execution_count": null,
   "id": "6feb8dcf-400d-4463-9e9f-8b982a1bb3f2",
   "metadata": {},
   "outputs": [],
   "source": [
    "l1.extend(l2)"
   ]
  },
  {
   "cell_type": "code",
   "execution_count": 70,
   "id": "c942e0a1-89d7-4961-85b3-0b1f9670088c",
   "metadata": {},
   "outputs": [
    {
     "data": {
      "text/plain": [
       "[688, 964, 255, 0, 24]"
      ]
     },
     "execution_count": 70,
     "metadata": {},
     "output_type": "execute_result"
    }
   ],
   "source": [
    "l2"
   ]
  },
  {
   "cell_type": "code",
   "execution_count": 71,
   "id": "de14ec6f-0c48-483b-ae90-4a8f6b3f0dcf",
   "metadata": {},
   "outputs": [
    {
     "data": {
      "text/plain": [
       "[24287382, 688, 964, [688, 964, 255, 0, 24], 255, 0, 688, 964, 255, 0, 24]"
      ]
     },
     "execution_count": 71,
     "metadata": {},
     "output_type": "execute_result"
    }
   ],
   "source": [
    "l1"
   ]
  },
  {
   "cell_type": "code",
   "execution_count": 72,
   "id": "f2af5cc8-5806-49cb-8ccc-df9d6f0c67a4",
   "metadata": {},
   "outputs": [],
   "source": [
    "l1.reverse()"
   ]
  },
  {
   "cell_type": "code",
   "execution_count": 73,
   "id": "e5d1ac4d-36e4-4fb5-85f0-7fea245a6079",
   "metadata": {},
   "outputs": [
    {
     "data": {
      "text/plain": [
       "[24, 0, 255, 964, 688, 0, 255, [688, 964, 255, 0, 24], 964, 688, 24287382]"
      ]
     },
     "execution_count": 73,
     "metadata": {},
     "output_type": "execute_result"
    }
   ],
   "source": [
    "l1"
   ]
  },
  {
   "cell_type": "code",
   "execution_count": 75,
   "id": "102a52ca-55ba-4521-867c-dc2259502075",
   "metadata": {},
   "outputs": [
    {
     "data": {
      "text/plain": [
       "[688, 964, 255, 0, 24]"
      ]
     },
     "execution_count": 75,
     "metadata": {},
     "output_type": "execute_result"
    }
   ],
   "source": [
    "l2"
   ]
  },
  {
   "cell_type": "code",
   "execution_count": 79,
   "id": "d7a9eaaf-7849-4e95-a537-58134dd2ed27",
   "metadata": {},
   "outputs": [],
   "source": [
    "l2.sort()"
   ]
  },
  {
   "cell_type": "code",
   "execution_count": 80,
   "id": "2382a75d-8698-49b5-a306-ade9006d5148",
   "metadata": {},
   "outputs": [
    {
     "data": {
      "text/plain": [
       "[0, 24, 255, 688, 964]"
      ]
     },
     "execution_count": 80,
     "metadata": {},
     "output_type": "execute_result"
    }
   ],
   "source": [
    "l2"
   ]
  },
  {
   "cell_type": "code",
   "execution_count": null,
   "id": "4c472461-f0f2-41bd-85d1-7e2a10a216a8",
   "metadata": {},
   "outputs": [],
   "source": []
  }
 ],
 "metadata": {
  "kernelspec": {
   "display_name": "Python 3 (ipykernel)",
   "language": "python",
   "name": "python3"
  },
  "language_info": {
   "codemirror_mode": {
    "name": "ipython",
    "version": 3
   },
   "file_extension": ".py",
   "mimetype": "text/x-python",
   "name": "python",
   "nbconvert_exporter": "python",
   "pygments_lexer": "ipython3",
   "version": "3.10.8"
  }
 },
 "nbformat": 4,
 "nbformat_minor": 5
}
