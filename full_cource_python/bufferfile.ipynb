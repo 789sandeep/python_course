{
 "cells": [
  {
   "cell_type": "code",
   "execution_count": 3,
   "id": "6fe0a38b-fffd-4c55-aa60-4d38eb8f876f",
   "metadata": {},
   "outputs": [],
   "source": [
    "import io\n",
    "with open(\"test.txt\",'wb') as f:\n",
    "    buf=io.BufferedWriter(f)\n",
    "    buf.write(b\"Certain objects available in Python wrap access to an underlying memory array or buffer. Such objects include the built-in bytes and bytearray, and some extension types like array.array. Third-party libraries may define their own types for special purposes, such as image processing or numeric analysis.While each of these types have their own semantics, they share the common characteristic of being backed by a possibly large memory buffer. It is then desirable, in some situations, to access that buffer directly and without intermediate copying.\\n\")\n",
    "    buf.write(b\"Certain objects available in Python wrap access to an underlying memory array or buffer. Such objects include the built-in bytes and bytearray, and some extension types like array.array. Third-party libraries may define their own types for special purposes, such as image processing or numeric analysis.While each of these types have their own semantics, they share the common characteristic of being backed by a possibly large memory buffer. It is then desirable, in some situations, to access that buffer directly and without intermediate copying.\\n\")\n",
    "    buf.flush()"
   ]
  },
  {
   "cell_type": "code",
   "execution_count": 6,
   "id": "84f9b8e9-a898-4245-93e5-37f8469bcf0f",
   "metadata": {},
   "outputs": [
    {
     "name": "stdout",
     "output_type": "stream",
     "text": [
      "b'Certain objects available in Python wrap access to an underlying memory array or buffer. Such objects include the built-in bytes and bytearray, and some extension types like array.array. Third-party libraries may define their own types for special purposes, such as image processing or numeric analysis.While each of these types have their own semantics, they share the common characteristic of being backed by a possibly large memory buffer. It is then desirable, in some situations, to access that buffer directly and without intermediate copying.\\nCertain objects available in Python wrap access to an underlying memory array or buffer. Such objects include the built-in bytes and bytearray, and some extension types like array.array. Third-party libraries may define their own types for special purposes, such as image processing or numeric analysis.While each of these types have their own semantics, they share the common characteristic of being backed by a possibly large memory buffer. It is then desirable, in some situations, to access that buffer directly and without intermediate copying.\\n'\n"
     ]
    }
   ],
   "source": [
    "with open(\"test.txt\",'rb') as f:\n",
    "    fil=io.BufferedReader(f)\n",
    "    print(fil.read())"
   ]
  },
  {
   "cell_type": "code",
   "execution_count": 27,
   "id": "24465922-f433-447f-b663-1dcedbf7339c",
   "metadata": {},
   "outputs": [],
   "source": [
    "import logging\n",
    "logging.basicConfig(filename=\"log1.log\",level=logging.DEBUG,format=\" %(asctime)s %(message)s %(levelname)s\")"
   ]
  },
  {
   "cell_type": "code",
   "execution_count": 28,
   "id": "461bbf51-7412-47fa-83db-b122dd8b8853",
   "metadata": {},
   "outputs": [],
   "source": [
    "import io\n",
    "logging.info(\"this is buffer module\")\n",
    "with open(\"test.txt\",'wb') as f:\n",
    "    buf=io.BufferedWriter(f)\n",
    "    logging.info(\"this is bufferWriter\")\n",
    "    buf.write(b\"Certain objects available in Python wrap access to an underlying memory array or buffer. Such objects include the built-in bytes and bytearray, and some extension types like array.array. Third-party libraries may define their own types for special purposes, such as image processing or numeric analysis.While each of these types have their own semantics, they share the common characteristic of being backed by a possibly large memory buffer. It is then desirable, in some situations, to access that buffer directly and without intermediate copying.\\n\")\n",
    "    buf.write(b\"Certain objects available in Python wrap access to an underlying memory array or buffer. Such objects include the built-in bytes and bytearray, and some extension types like array.array. Third-party libraries may define their own types for special purposes, such as image processing or numeric analysis.While each of these types have their own semantics, they share the common characteristic of being backed by a possibly large memory buffer. It is then desirable, in some situations, to access that buffer directly and without intermediate copying.\\n\")\n",
    "    buf.flush()\n",
    "    logging.info(\"this is buffer close flush\")"
   ]
  },
  {
   "cell_type": "code",
   "execution_count": null,
   "id": "c8bcbbb7-3cc3-4f75-887a-19e22ab2e51c",
   "metadata": {},
   "outputs": [],
   "source": []
  }
 ],
 "metadata": {
  "kernelspec": {
   "display_name": "Python 3 (ipykernel)",
   "language": "python",
   "name": "python3"
  },
  "language_info": {
   "codemirror_mode": {
    "name": "ipython",
    "version": 3
   },
   "file_extension": ".py",
   "mimetype": "text/x-python",
   "name": "python",
   "nbconvert_exporter": "python",
   "pygments_lexer": "ipython3",
   "version": "3.10.8"
  }
 },
 "nbformat": 4,
 "nbformat_minor": 5
}
